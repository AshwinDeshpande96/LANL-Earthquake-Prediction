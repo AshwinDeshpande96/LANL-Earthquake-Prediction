{
  "nbformat": 4,
  "nbformat_minor": 0,
  "metadata": {
    "colab": {
      "name": "LANL_Earthquake.ipynb",
      "version": "0.3.2",
      "provenance": [],
      "collapsed_sections": [
        "RcRbSXeS_0ye",
        "PlOKckUt_83u",
        "u0IeyaSMAGhT",
        "pvPlpnL_ALgk",
        "l_D6JP8XARyI",
        "poKFNqLCAmoo",
        "v_2Zg_a-afRX",
        "LHuOqg4MfPP8"
      ],
      "include_colab_link": true
    },
    "kernelspec": {
      "name": "python2",
      "display_name": "Python 2"
    },
    "accelerator": "GPU"
  },
  "cells": [
    {
      "cell_type": "markdown",
      "metadata": {
        "id": "view-in-github",
        "colab_type": "text"
      },
      "source": [
        "<a href=\"https://colab.research.google.com/github/AshwinDeshpande96/LANL-Earthquake-Prediction/blob/master/LANL_Earthquake.ipynb\" target=\"_parent\"><img src=\"https://colab.research.google.com/assets/colab-badge.svg\" alt=\"Open In Colab\"/></a>"
      ]
    },
    {
      "cell_type": "markdown",
      "metadata": {
        "id": "RcRbSXeS_0ye",
        "colab_type": "text"
      },
      "source": [
        "# Raw Data Fetching"
      ]
    },
    {
      "cell_type": "code",
      "metadata": {
        "id": "QAN_GVUPkTNi",
        "colab_type": "code",
        "colab": {
          "resources": {
            "http://localhost:8080/nbextensions/google.colab/files.js": {
              "data": "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",
              "ok": true,
              "headers": [
                [
                  "content-type",
                  "application/javascript"
                ]
              ],
              "status": 200,
              "status_text": ""
            }
          },
          "base_uri": "https://localhost:8080/",
          "height": 54
        },
        "outputId": "8b89db05-9aa2-4aa1-8d7a-779cd53c4de8"
      },
      "source": [
        "#Get 'kaggle.json' file from your kaggle profile. Click on 'Edit Profile' --> 'Create New API Token'\n",
        "#Upload 'kaggle.json' file\n",
        "from google.colab import files\n",
        "files.upload()"
      ],
      "execution_count": 158,
      "outputs": [
        {
          "output_type": "display_data",
          "data": {
            "text/plain": [
              "<IPython.core.display.HTML object>"
            ],
            "text/html": [
              "\n",
              "     <input type=\"file\" id=\"files-f09fecf9-3fba-4e00-b1a3-6a0d8837d74a\" name=\"files[]\" multiple disabled />\n",
              "     <output id=\"result-f09fecf9-3fba-4e00-b1a3-6a0d8837d74a\">\n",
              "      Upload widget is only available when the cell has been executed in the\n",
              "      current browser session. Please rerun this cell to enable.\n",
              "      </output>\n",
              "      <script src=\"/nbextensions/google.colab/files.js\"></script> "
            ]
          },
          "metadata": {
            "tags": []
          }
        },
        {
          "output_type": "execute_result",
          "data": {
            "text/plain": [
              "{}"
            ]
          },
          "metadata": {
            "tags": []
          },
          "execution_count": 158
        }
      ]
    },
    {
      "cell_type": "code",
      "metadata": {
        "id": "zRFotDm5BsqT",
        "colab_type": "code",
        "colab": {}
      },
      "source": [
        "#Make /root/.kaggle/ directory. So that kaggle command can download the data\n",
        "!mkdir /root/.kaggle/\n",
        "#Move downloaded 'kaggle.json' to previously created directory\n",
        "!mv /content/kaggle.json /root/.kaggle/\n",
        "#change permissions of 'kaggle.json' so that it is only accessible by you\n",
        "!chmod 600 /root/.kaggle/kaggle.json\n",
        "!ls /content/"
      ],
      "execution_count": 0,
      "outputs": []
    },
    {
      "cell_type": "code",
      "metadata": {
        "id": "Z7V5-bEIjdUm",
        "colab_type": "code",
        "colab": {}
      },
      "source": [
        "#download the Data given by Kaggle Competition\n",
        "!kaggle competitions download -c LANL-Earthquake-Prediction\n",
        "#this downloads 3 files: \n",
        "#1) sample_submisison.csv  \n",
        "#2) test.zip - (this contains 2624 csv files with 150000 rows of acoustic_data)   \n",
        "#3) train.csv.zip - Contains one csv file with approx 150000*4195 rows of ['acoustic_data', 'time_to_failure']\n",
        "!ls"
      ],
      "execution_count": 0,
      "outputs": []
    },
    {
      "cell_type": "code",
      "metadata": {
        "id": "fa19xolvIsI7",
        "colab_type": "code",
        "colab": {}
      },
      "source": [
        "#extract train.csv.zip file to obtain train.csv file\n",
        "!unzip train.csv.zip\n",
        "!ls"
      ],
      "execution_count": 0,
      "outputs": []
    },
    {
      "cell_type": "code",
      "metadata": {
        "id": "gMjG7mqmhtbw",
        "colab_type": "code",
        "colab": {}
      },
      "source": [
        "#extract test.zip file to obtain 2624 'seg_******.csv' files\n",
        "!unzip test.zip\n",
        "!ls"
      ],
      "execution_count": 0,
      "outputs": []
    },
    {
      "cell_type": "code",
      "metadata": {
        "id": "VNRDMuplcwnJ",
        "colab_type": "code",
        "colab": {}
      },
      "source": [
        "#raw data sample\n",
        "import pandas as pd\n",
        "!\n",
        "raw_sample = pd.read_csv('train.csv', nrows=5)\n",
        "raw_sample.head()"
      ],
      "execution_count": 0,
      "outputs": []
    },
    {
      "cell_type": "markdown",
      "metadata": {
        "id": "PlOKckUt_83u",
        "colab_type": "text"
      },
      "source": [
        "# Feature Extraction"
      ]
    },
    {
      "cell_type": "code",
      "metadata": {
        "id": "vXKDWLMNsoVQ",
        "colab_type": "code",
        "outputId": "3ffc04ab-0852-48df-a2c5-446a0c96be65",
        "colab": {
          "base_uri": "https://localhost:8080/",
          "height": 122
        }
      },
      "source": [
        "#Link up to Google Drive to store Extracted Feature Data\n",
        "from google.colab import drive\n",
        "drive.mount('/content/gdrive')"
      ],
      "execution_count": 2,
      "outputs": [
        {
          "output_type": "stream",
          "text": [
            "Go to this URL in a browser: https://accounts.google.com/o/oauth2/auth?client_id=947318989803-6bn6qk8qdgf4n4g3pfee6491hc0brc4i.apps.googleusercontent.com&redirect_uri=urn%3Aietf%3Awg%3Aoauth%3A2.0%3Aoob&scope=email%20https%3A%2F%2Fwww.googleapis.com%2Fauth%2Fdocs.test%20https%3A%2F%2Fwww.googleapis.com%2Fauth%2Fdrive%20https%3A%2F%2Fwww.googleapis.com%2Fauth%2Fdrive.photos.readonly%20https%3A%2F%2Fwww.googleapis.com%2Fauth%2Fpeopleapi.readonly&response_type=code\n",
            "\n",
            "Enter your authorization code:\n",
            "··········\n",
            "Mounted at /content/gdrive\n"
          ],
          "name": "stdout"
        }
      ]
    },
    {
      "cell_type": "code",
      "metadata": {
        "id": "UP1t3FIHpsBf",
        "colab_type": "code",
        "colab": {}
      },
      "source": [
        "from sklearn.linear_model import LinearRegression\n",
        "#this function returns a single feature: 'abs_trend'\n",
        "def add_trend_feature(arr, abs_values=False):\n",
        "    \"\"\"Fit a univariate linear regression and return the coefficient.\"\"\"\n",
        "    idx = np.array(range(len(arr)))\n",
        "    if abs_values:\n",
        "        arr = np.abs(arr)\n",
        "    lr = LinearRegression()\n",
        "    lr.fit(idx.reshape(-1, 1), arr)\n",
        "    return lr.coef_[0]\n"
      ],
      "execution_count": 0,
      "outputs": []
    },
    {
      "cell_type": "code",
      "metadata": {
        "id": "g0ajRQgbZaB2",
        "colab_type": "code",
        "colab": {}
      },
      "source": [
        "def extract_features_from_segment(x):\n",
        "    \"\"\"Returns a dictionary with the features for the given segment of acoustic data.\"\"\"\n",
        "    features = {}\n",
        "    \n",
        "    features['ave'] = x.values.mean()\n",
        "    features['std'] = x.values.std()\n",
        "    features['max'] = x.values.max()\n",
        "    features['min'] = x.values.min()\n",
        "    features['q90'] = np.quantile(x.values, 0.90)\n",
        "    features['q95'] = np.quantile(x.values, 0.95)\n",
        "    features['q99'] = np.quantile(x.values, 0.99)\n",
        "    features['q05'] = np.quantile(x.values, 0.05)\n",
        "    features['q10'] = np.quantile(x.values, 0.10)\n",
        "    features['q01'] = np.quantile(x.values, 0.01)\n",
        "    features['std_to_mean'] = features['std'] / features['ave']\n",
        "    \n",
        "    features['abs_max'] = np.abs(x.values).max()\n",
        "    features['abs_mean'] = np.abs(x.values).mean()\n",
        "    features['abs_std'] = np.abs(x.values).std()\n",
        "    features['trend'] = add_trend_feature(x.values)\n",
        "    features['abs_trend'] = add_trend_feature(x.values, abs_values=True)\n",
        "    \n",
        "    # New features - rolling features\n",
        "    for w in [10, 50, 100, 1000]:\n",
        "        x_roll_abs_mean = x.abs().rolling(w).mean().dropna().values\n",
        "        x_roll_mean = x.rolling(w).mean().dropna().values\n",
        "        x_roll_std = x.rolling(w).std().dropna().values\n",
        "        x_roll_min = x.rolling(w).min().dropna().values\n",
        "        x_roll_max = x.rolling(w).max().dropna().values\n",
        "        \n",
        "        features['ave_roll_std_' + str(w)] = x_roll_std.mean()\n",
        "        features['std_roll_std_' + str(w)] = x_roll_std.std()\n",
        "        features['max_roll_std_' + str(w)] = x_roll_std.max()\n",
        "        features['min_roll_std_' + str(w)] = x_roll_std.min()\n",
        "        features['q01_roll_std_' + str(w)] = np.quantile(x_roll_std, 0.01)\n",
        "        features['q05_roll_std_' + str(w)] = np.quantile(x_roll_std, 0.05)\n",
        "        features['q10_roll_std_' + str(w)] = np.quantile(x_roll_std, 0.10)\n",
        "        features['q95_roll_std_' + str(w)] = np.quantile(x_roll_std, 0.95)\n",
        "        features['q99_roll_std_' + str(w)] = np.quantile(x_roll_std, 0.99)\n",
        "        \n",
        "        features['ave_roll_mean_' + str(w)] = x_roll_mean.mean()\n",
        "        features['std_roll_mean_' + str(w)] = x_roll_mean.std()\n",
        "        features['max_roll_mean_' + str(w)] = x_roll_mean.max()\n",
        "        features['min_roll_mean_' + str(w)] = x_roll_mean.min()\n",
        "        features['q05_roll_mean_' + str(w)] = np.quantile(x_roll_mean, 0.05)\n",
        "        features['q95_roll_mean_' + str(w)] = np.quantile(x_roll_mean, 0.95)\n",
        "        \n",
        "        features['ave_roll_abs_mean_' + str(w)] = x_roll_abs_mean.mean()\n",
        "        features['std_roll_abs_mean_' + str(w)] = x_roll_abs_mean.std()\n",
        "        features['q05_roll_abs_mean_' + str(w)] = np.quantile(x_roll_abs_mean, 0.05)\n",
        "        features['q95_roll_abs_mean_' + str(w)] = np.quantile(x_roll_abs_mean, 0.95)\n",
        "        \n",
        "        features['std_roll_min_' + str(w)] = x_roll_min.std()\n",
        "        features['max_roll_min_' + str(w)] = x_roll_min.max()\n",
        "        features['q05_roll_min_' + str(w)] = np.quantile(x_roll_min, 0.05)\n",
        "        features['q95_roll_min_' + str(w)] = np.quantile(x_roll_min, 0.95)\n",
        "\n",
        "        features['std_roll_max_' + str(w)] = x_roll_max.std()\n",
        "        features['min_roll_max_' + str(w)] = x_roll_max.min()\n",
        "        features['q05_roll_max_' + str(w)] = np.quantile(x_roll_max, 0.05)\n",
        "        features['q95_roll_max_' + str(w)] = np.quantile(x_roll_max, 0.95)\n",
        "    return features"
      ],
      "execution_count": 0,
      "outputs": []
    },
    {
      "cell_type": "code",
      "metadata": {
        "id": "v1L1HoL0lMLq",
        "colab_type": "code",
        "colab": {}
      },
      "source": [
        "import pandas as pd\n",
        "import time as t\n",
        "import os\n",
        "#Feature Extraction found at https://www.kaggle.com/jsaguiar/baseline-with-multiple-models\n",
        "#make_train function returns a 3 things:\n",
        "#!) X_train - Training Set of shape (4195 * 124) - Each of 4195 rows is contructed by calling 'extract_features_from_segment' function from 150,000 data-chunk of train.csv file\n",
        "#2) target - target variable is the value of every 150,000th  train.csv's ['time_to_failure'] data\n",
        "#3) quake - not used in this project\n",
        "def make_train():\n",
        "    features_list = []\n",
        "    target_list = []\n",
        "    quake_num = []\n",
        "    quake_count = 0\n",
        "    row = 1\n",
        "    time_so_far = 0\n",
        "    for segment in pd.read_csv('/content/train.csv', chunksize=150000):\n",
        "        \n",
        "        start = t.time()\n",
        "        \n",
        "        target_list.append(segment['time_to_failure'].values[-1])\n",
        "        features_list.append(extract_features_from_segment(segment['acoustic_data']))\n",
        "        quake_num.append(quake_count)\n",
        "        \n",
        "        if any(segment['time_to_failure'].diff() > 5):\n",
        "            quake_count = quake_count + 1\n",
        "        \n",
        "        end = t.time()\n",
        "        \n",
        "        time_taken = end - start\n",
        "        time_so_far += time_taken\n",
        "        \n",
        "        print \"\\b\\b\\b\\b\\b\\b\\b\\b\\b\\b\\b\\b\\b\\b\\b\\b\\b\\b\\b\\b\\b\\b\\b\\b\\b\\b\\b\\b\\b\\b\\b\\b\", row, \"/4195 \\n ETA: \", round(time_so_far/60, 1), \"m/\", int(time_taken*4195/60), 'm'\n",
        "        \n",
        "        row = row + 1\n",
        "    return pd.DataFrame(features_list), pd.Series(target_list), pd.Series(quake_num)\n",
        "#reads each 2624 'seg_******.csv' file and creates a (2624*124) dataset for testing\n",
        "def make_test():\n",
        "    features_list = []\n",
        "    \n",
        "    row = 1\n",
        "    time_so_far = 0\n",
        "    test_files = [file for file in os.listdir(os.getcwd()) if file.startswith(\"seg\")]          #returns an array of every seg_******.csv file in current directory\n",
        "    num_test_file = len(test_files)\n",
        "    for file in test_files:\n",
        "        segment = pd.read_csv(file)\n",
        "        start = t.time()\n",
        "        \n",
        "        \n",
        "        features_list.append(extract_features_from_segment(segment['acoustic_data']))\n",
        "        \n",
        "        \n",
        "        end = t.time()\n",
        "        \n",
        "        time_taken = end - start\n",
        "        time_so_far += time_taken\n",
        "        \n",
        "        print \"\\b\\b\\b\\b\\b\\b\\b\\b\\b\\b\\b\\b\\b\\b\\b\\b\\b\\b\\b\\b\\b\\b\\b\\b\\b\\b\\b\\b\\b\\b\\b\\b\", row, \"\\b/\" +str(num_test_file)+\"\\nETA: \", round(time_so_far/60, 1), \"\\bm/\", int(time_taken*num_test_file/60), 'm'\n",
        "        \n",
        "        row = row + 1\n",
        "    return pd.DataFrame(features_list)\n"
      ],
      "execution_count": 0,
      "outputs": []
    },
    {
      "cell_type": "code",
      "metadata": {
        "id": "Vmieomg-C7J_",
        "colab_type": "code",
        "colab": {}
      },
      "source": [
        "X_train, target, quake = make_train()"
      ],
      "execution_count": 0,
      "outputs": []
    },
    {
      "cell_type": "code",
      "metadata": {
        "id": "d-pjQTbJpdB4",
        "colab_type": "code",
        "outputId": "35dbe69a-1fc8-41fc-963f-ebe87842c2df",
        "colab": {
          "base_uri": "https://localhost:8080/",
          "height": 306
        }
      },
      "source": [
        "#X_train, target, quake is created\n",
        "\n",
        "print \"Train shape:\", X_train.shape, \"\\n\", X_train.head(3)\n",
        "print \"Target shape:\", target.shape, \"\\n\", target.head(3)\n",
        "print \"Quake shape:\", quake.shape, \"\\n\", quake.head(3), \n"
      ],
      "execution_count": 165,
      "outputs": [
        {
          "output_type": "stream",
          "text": [
            "Train shape: (4195, 124) \n",
            "   abs_max  abs_mean   abs_std  ...  std_roll_std_50  std_to_mean         trend\n",
            "0      104  5.576567  4.333310  ...         3.176148     1.044425 -3.268300e-06\n",
            "1      181  5.734167  5.732758  ...         4.953472     1.394229  9.090424e-07\n",
            "2      140  6.152647  5.895925  ...         5.035827     1.420060  3.962182e-06\n",
            "\n",
            "[3 rows x 124 columns]\n",
            "Target shape: (4195,) \n",
            "0    1.430797\n",
            "1    1.391499\n",
            "2    1.353196\n",
            "dtype: float64\n",
            "Quake shape: (4195,) \n",
            "0    0\n",
            "1    0\n",
            "2    0\n",
            "dtype: int64\n"
          ],
          "name": "stdout"
        }
      ]
    },
    {
      "cell_type": "code",
      "metadata": {
        "id": "7VJaGIYnt0mx",
        "colab_type": "code",
        "outputId": "ad59cc65-1d42-4d2a-c69a-1d990b59350b",
        "colab": {
          "base_uri": "https://localhost:8080/",
          "height": 71
        }
      },
      "source": [
        "#files are saved onto Google Drive in csv format with X_train - (4195*550) rows & colums, target with (4195, 1) rows & columns, quake with (4195, 1) rows & columns\n",
        "#change filepath according to your drive directory\n",
        "X_train.to_csv(\"/content/gdrive/My Drive/Projects/Kaggle Challenges/LANL Earthquake Prediction/X_train.csv\", index=False)\n",
        "target.to_csv(\"/content/gdrive/My Drive/Projects/Kaggle Challenges/LANL Earthquake Prediction/target.csv\", index=False)\n",
        "#quake.to_csv(\"/content/gdrive/My Drive/Projects/Kaggle Challenges/LANL Earthquake Prediction/quake.csv\", index=False)"
      ],
      "execution_count": 167,
      "outputs": [
        {
          "output_type": "stream",
          "text": [
            "/usr/local/lib/python2.7/dist-packages/ipykernel_launcher.py:2: FutureWarning: The signature of `Series.to_csv` was aligned to that of `DataFrame.to_csv`, and argument 'header' will change its default value from False to True: please pass an explicit value to suppress this warning.\n",
            "  \n"
          ],
          "name": "stderr"
        }
      ]
    },
    {
      "cell_type": "code",
      "metadata": {
        "id": "MiYnyNXT8gJg",
        "colab_type": "code",
        "colab": {}
      },
      "source": [
        "#test_set is created\n",
        "testset = make_test()\n",
        "#files are saved onto Google Drive in csv format with test_set.csv - (2624*124) rows & colums\n",
        "testset.to_csv(\"/content/gdrive/My Drive/Projects/Kaggle Challenges/LANL Earthquake Prediction/test_set.csv\", index=False)"
      ],
      "execution_count": 0,
      "outputs": []
    },
    {
      "cell_type": "markdown",
      "metadata": {
        "id": "xaIvtWWVQkJg",
        "colab_type": "text"
      },
      "source": [
        "Once X-train.csv, target.csv, quake.csv, test_set.csv are created we do not have to run previous cells again. \n",
        "Further program uses only the data saved in csv file in Google drive"
      ]
    },
    {
      "cell_type": "markdown",
      "metadata": {
        "id": "u0IeyaSMAGhT",
        "colab_type": "text"
      },
      "source": [
        "# Data Import"
      ]
    },
    {
      "cell_type": "code",
      "metadata": {
        "id": "PbOiqzSBPcd8",
        "colab_type": "code",
        "colab": {}
      },
      "source": [
        "#We start by importing previously created csv files\n",
        "import pandas as pd\n",
        "X = pd.read_csv(\"/content/gdrive/My Drive/Projects/Kaggle Challenges/LANL Earthquake Prediction/X_train.csv\")\n",
        "Y = pd.read_csv(\"/content/gdrive/My Drive/Projects/Kaggle Challenges/LANL Earthquake Prediction/target.csv\", header=None)\n",
        "#Uncomment if you want to use quake data\n",
        "#quake = pd.read_csv(\"/content/gdrive/My Drive/Projects/Kaggle Challenges/LANL Earthquake Prediction/quake.csv\")"
      ],
      "execution_count": 0,
      "outputs": []
    },
    {
      "cell_type": "code",
      "metadata": {
        "id": "xZlhwtoVaSAs",
        "colab_type": "code",
        "outputId": "c25245d9-db8c-41ae-cd34-599944fa99b0",
        "colab": {
          "base_uri": "https://localhost:8080/",
          "height": 372
        }
      },
      "source": [
        "#X_train.drop(X_train.tail(1).index,inplace=True)\n",
        "print \"Training Data:\\t\", X.shape\n",
        "print \"  Target Data:\\t\", Y.shape\n",
        "\n",
        "#Display sample of training data\n",
        "X.head(5)\n"
      ],
      "execution_count": 4,
      "outputs": [
        {
          "output_type": "stream",
          "text": [
            "Training Data:\t(4195, 124)\n",
            "  Target Data:\t(4195, 1)\n"
          ],
          "name": "stdout"
        },
        {
          "output_type": "execute_result",
          "data": {
            "text/html": [
              "<div>\n",
              "<style scoped>\n",
              "    .dataframe tbody tr th:only-of-type {\n",
              "        vertical-align: middle;\n",
              "    }\n",
              "\n",
              "    .dataframe tbody tr th {\n",
              "        vertical-align: top;\n",
              "    }\n",
              "\n",
              "    .dataframe thead th {\n",
              "        text-align: right;\n",
              "    }\n",
              "</style>\n",
              "<table border=\"1\" class=\"dataframe\">\n",
              "  <thead>\n",
              "    <tr style=\"text-align: right;\">\n",
              "      <th></th>\n",
              "      <th>abs_max</th>\n",
              "      <th>abs_mean</th>\n",
              "      <th>abs_std</th>\n",
              "      <th>abs_trend</th>\n",
              "      <th>ave</th>\n",
              "      <th>ave_roll_abs_mean_10</th>\n",
              "      <th>ave_roll_abs_mean_100</th>\n",
              "      <th>ave_roll_abs_mean_1000</th>\n",
              "      <th>ave_roll_abs_mean_50</th>\n",
              "      <th>ave_roll_mean_10</th>\n",
              "      <th>ave_roll_mean_100</th>\n",
              "      <th>ave_roll_mean_1000</th>\n",
              "      <th>ave_roll_mean_50</th>\n",
              "      <th>ave_roll_std_10</th>\n",
              "      <th>ave_roll_std_100</th>\n",
              "      <th>ave_roll_std_1000</th>\n",
              "      <th>ave_roll_std_50</th>\n",
              "      <th>max</th>\n",
              "      <th>max_roll_mean_10</th>\n",
              "      <th>max_roll_mean_100</th>\n",
              "      <th>max_roll_mean_1000</th>\n",
              "      <th>max_roll_mean_50</th>\n",
              "      <th>max_roll_min_10</th>\n",
              "      <th>max_roll_min_100</th>\n",
              "      <th>max_roll_min_1000</th>\n",
              "      <th>max_roll_min_50</th>\n",
              "      <th>max_roll_std_10</th>\n",
              "      <th>max_roll_std_100</th>\n",
              "      <th>max_roll_std_1000</th>\n",
              "      <th>max_roll_std_50</th>\n",
              "      <th>min</th>\n",
              "      <th>min_roll_max_10</th>\n",
              "      <th>min_roll_max_100</th>\n",
              "      <th>min_roll_max_1000</th>\n",
              "      <th>min_roll_max_50</th>\n",
              "      <th>min_roll_mean_10</th>\n",
              "      <th>min_roll_mean_100</th>\n",
              "      <th>min_roll_mean_1000</th>\n",
              "      <th>min_roll_mean_50</th>\n",
              "      <th>min_roll_std_10</th>\n",
              "      <th>...</th>\n",
              "      <th>q95_roll_mean_10</th>\n",
              "      <th>q95_roll_mean_100</th>\n",
              "      <th>q95_roll_mean_1000</th>\n",
              "      <th>q95_roll_mean_50</th>\n",
              "      <th>q95_roll_min_10</th>\n",
              "      <th>q95_roll_min_100</th>\n",
              "      <th>q95_roll_min_1000</th>\n",
              "      <th>q95_roll_min_50</th>\n",
              "      <th>q95_roll_std_10</th>\n",
              "      <th>q95_roll_std_100</th>\n",
              "      <th>q95_roll_std_1000</th>\n",
              "      <th>q95_roll_std_50</th>\n",
              "      <th>q99</th>\n",
              "      <th>q99_roll_std_10</th>\n",
              "      <th>q99_roll_std_100</th>\n",
              "      <th>q99_roll_std_1000</th>\n",
              "      <th>q99_roll_std_50</th>\n",
              "      <th>std</th>\n",
              "      <th>std_roll_abs_mean_10</th>\n",
              "      <th>std_roll_abs_mean_100</th>\n",
              "      <th>std_roll_abs_mean_1000</th>\n",
              "      <th>std_roll_abs_mean_50</th>\n",
              "      <th>std_roll_max_10</th>\n",
              "      <th>std_roll_max_100</th>\n",
              "      <th>std_roll_max_1000</th>\n",
              "      <th>std_roll_max_50</th>\n",
              "      <th>std_roll_mean_10</th>\n",
              "      <th>std_roll_mean_100</th>\n",
              "      <th>std_roll_mean_1000</th>\n",
              "      <th>std_roll_mean_50</th>\n",
              "      <th>std_roll_min_10</th>\n",
              "      <th>std_roll_min_100</th>\n",
              "      <th>std_roll_min_1000</th>\n",
              "      <th>std_roll_min_50</th>\n",
              "      <th>std_roll_std_10</th>\n",
              "      <th>std_roll_std_100</th>\n",
              "      <th>std_roll_std_1000</th>\n",
              "      <th>std_roll_std_50</th>\n",
              "      <th>std_to_mean</th>\n",
              "      <th>trend</th>\n",
              "    </tr>\n",
              "  </thead>\n",
              "  <tbody>\n",
              "    <tr>\n",
              "      <th>0</th>\n",
              "      <td>104</td>\n",
              "      <td>5.576567</td>\n",
              "      <td>4.333310</td>\n",
              "      <td>-0.000011</td>\n",
              "      <td>4.884113</td>\n",
              "      <td>5.576566</td>\n",
              "      <td>5.576655</td>\n",
              "      <td>5.579118</td>\n",
              "      <td>5.576561</td>\n",
              "      <td>4.884088</td>\n",
              "      <td>4.883864</td>\n",
              "      <td>4.883418</td>\n",
              "      <td>4.883969</td>\n",
              "      <td>3.507118</td>\n",
              "      <td>4.050450</td>\n",
              "      <td>4.288590</td>\n",
              "      <td>4.011743</td>\n",
              "      <td>104</td>\n",
              "      <td>68.5</td>\n",
              "      <td>10.04</td>\n",
              "      <td>5.629</td>\n",
              "      <td>12.82</td>\n",
              "      <td>32.0</td>\n",
              "      <td>1.0</td>\n",
              "      <td>-2.0</td>\n",
              "      <td>3.0</td>\n",
              "      <td>78.313047</td>\n",
              "      <td>52.335255</td>\n",
              "      <td>31.029445</td>\n",
              "      <td>61.404926</td>\n",
              "      <td>-98</td>\n",
              "      <td>-18.0</td>\n",
              "      <td>8.0</td>\n",
              "      <td>12.0</td>\n",
              "      <td>7.0</td>\n",
              "      <td>-60.0</td>\n",
              "      <td>1.04</td>\n",
              "      <td>3.896</td>\n",
              "      <td>-3.10</td>\n",
              "      <td>0.421637</td>\n",
              "      <td>...</td>\n",
              "      <td>8.1</td>\n",
              "      <td>5.58</td>\n",
              "      <td>5.338</td>\n",
              "      <td>5.80</td>\n",
              "      <td>4.0</td>\n",
              "      <td>-1.0</td>\n",
              "      <td>-3.0</td>\n",
              "      <td>0.0</td>\n",
              "      <td>7.226494</td>\n",
              "      <td>8.195903</td>\n",
              "      <td>8.185756</td>\n",
              "      <td>8.310922</td>\n",
              "      <td>18.0</td>\n",
              "      <td>15.034220</td>\n",
              "      <td>16.948797</td>\n",
              "      <td>15.055998</td>\n",
              "      <td>17.430339</td>\n",
              "      <td>5.101089</td>\n",
              "      <td>2.897799</td>\n",
              "      <td>2.193084</td>\n",
              "      <td>1.612370</td>\n",
              "      <td>2.302065</td>\n",
              "      <td>4.568265</td>\n",
              "      <td>6.594138</td>\n",
              "      <td>11.064159</td>\n",
              "      <td>5.891685</td>\n",
              "      <td>2.801800</td>\n",
              "      <td>0.452294</td>\n",
              "      <td>0.295715</td>\n",
              "      <td>0.606039</td>\n",
              "      <td>4.526280</td>\n",
              "      <td>6.522304</td>\n",
              "      <td>11.248606</td>\n",
              "      <td>5.787738</td>\n",
              "      <td>2.809071</td>\n",
              "      <td>3.111524</td>\n",
              "      <td>2.769772</td>\n",
              "      <td>3.176148</td>\n",
              "      <td>1.044425</td>\n",
              "      <td>-3.268300e-06</td>\n",
              "    </tr>\n",
              "    <tr>\n",
              "      <th>1</th>\n",
              "      <td>181</td>\n",
              "      <td>5.734167</td>\n",
              "      <td>5.732758</td>\n",
              "      <td>-0.000005</td>\n",
              "      <td>4.725767</td>\n",
              "      <td>5.734187</td>\n",
              "      <td>5.734653</td>\n",
              "      <td>5.739510</td>\n",
              "      <td>5.734444</td>\n",
              "      <td>4.725732</td>\n",
              "      <td>4.725623</td>\n",
              "      <td>4.724876</td>\n",
              "      <td>4.725729</td>\n",
              "      <td>3.761435</td>\n",
              "      <td>4.436359</td>\n",
              "      <td>4.843486</td>\n",
              "      <td>4.379248</td>\n",
              "      <td>181</td>\n",
              "      <td>145.1</td>\n",
              "      <td>16.67</td>\n",
              "      <td>5.667</td>\n",
              "      <td>28.26</td>\n",
              "      <td>91.0</td>\n",
              "      <td>1.0</td>\n",
              "      <td>-2.0</td>\n",
              "      <td>2.0</td>\n",
              "      <td>122.978273</td>\n",
              "      <td>87.972617</td>\n",
              "      <td>38.643217</td>\n",
              "      <td>94.730087</td>\n",
              "      <td>-154</td>\n",
              "      <td>-99.0</td>\n",
              "      <td>8.0</td>\n",
              "      <td>11.0</td>\n",
              "      <td>7.0</td>\n",
              "      <td>-128.0</td>\n",
              "      <td>-4.09</td>\n",
              "      <td>3.412</td>\n",
              "      <td>-13.30</td>\n",
              "      <td>0.421637</td>\n",
              "      <td>...</td>\n",
              "      <td>8.2</td>\n",
              "      <td>5.39</td>\n",
              "      <td>5.066</td>\n",
              "      <td>5.64</td>\n",
              "      <td>4.0</td>\n",
              "      <td>-1.0</td>\n",
              "      <td>-3.0</td>\n",
              "      <td>0.0</td>\n",
              "      <td>8.265726</td>\n",
              "      <td>9.829922</td>\n",
              "      <td>10.544982</td>\n",
              "      <td>9.882948</td>\n",
              "      <td>21.0</td>\n",
              "      <td>18.772705</td>\n",
              "      <td>23.457270</td>\n",
              "      <td>33.704332</td>\n",
              "      <td>23.233021</td>\n",
              "      <td>6.588802</td>\n",
              "      <td>4.403190</td>\n",
              "      <td>3.563252</td>\n",
              "      <td>2.399157</td>\n",
              "      <td>3.752625</td>\n",
              "      <td>6.615549</td>\n",
              "      <td>10.727877</td>\n",
              "      <td>21.604075</td>\n",
              "      <td>9.299945</td>\n",
              "      <td>3.924070</td>\n",
              "      <td>0.496220</td>\n",
              "      <td>0.231587</td>\n",
              "      <td>0.764507</td>\n",
              "      <td>6.398675</td>\n",
              "      <td>10.162552</td>\n",
              "      <td>21.096014</td>\n",
              "      <td>8.823748</td>\n",
              "      <td>4.120785</td>\n",
              "      <td>4.893431</td>\n",
              "      <td>4.492905</td>\n",
              "      <td>4.953472</td>\n",
              "      <td>1.394229</td>\n",
              "      <td>9.090424e-07</td>\n",
              "    </tr>\n",
              "    <tr>\n",
              "      <th>2</th>\n",
              "      <td>140</td>\n",
              "      <td>6.152647</td>\n",
              "      <td>5.895925</td>\n",
              "      <td>0.000010</td>\n",
              "      <td>4.906393</td>\n",
              "      <td>6.152557</td>\n",
              "      <td>6.153045</td>\n",
              "      <td>6.159850</td>\n",
              "      <td>6.152678</td>\n",
              "      <td>4.906229</td>\n",
              "      <td>4.906088</td>\n",
              "      <td>4.905840</td>\n",
              "      <td>4.906072</td>\n",
              "      <td>4.080841</td>\n",
              "      <td>4.917334</td>\n",
              "      <td>5.423013</td>\n",
              "      <td>4.849219</td>\n",
              "      <td>140</td>\n",
              "      <td>94.8</td>\n",
              "      <td>12.38</td>\n",
              "      <td>5.957</td>\n",
              "      <td>17.36</td>\n",
              "      <td>60.0</td>\n",
              "      <td>2.0</td>\n",
              "      <td>-2.0</td>\n",
              "      <td>2.0</td>\n",
              "      <td>96.247424</td>\n",
              "      <td>53.353832</td>\n",
              "      <td>35.326896</td>\n",
              "      <td>65.431379</td>\n",
              "      <td>-106</td>\n",
              "      <td>-33.0</td>\n",
              "      <td>8.0</td>\n",
              "      <td>11.0</td>\n",
              "      <td>7.0</td>\n",
              "      <td>-72.9</td>\n",
              "      <td>-1.55</td>\n",
              "      <td>4.055</td>\n",
              "      <td>-7.72</td>\n",
              "      <td>0.516398</td>\n",
              "      <td>...</td>\n",
              "      <td>9.1</td>\n",
              "      <td>5.66</td>\n",
              "      <td>5.344</td>\n",
              "      <td>5.94</td>\n",
              "      <td>4.0</td>\n",
              "      <td>-1.0</td>\n",
              "      <td>-3.0</td>\n",
              "      <td>0.0</td>\n",
              "      <td>10.211649</td>\n",
              "      <td>13.485267</td>\n",
              "      <td>14.845834</td>\n",
              "      <td>13.127670</td>\n",
              "      <td>26.0</td>\n",
              "      <td>23.865014</td>\n",
              "      <td>28.598375</td>\n",
              "      <td>23.928873</td>\n",
              "      <td>29.448105</td>\n",
              "      <td>6.967374</td>\n",
              "      <td>4.429093</td>\n",
              "      <td>3.516817</td>\n",
              "      <td>2.414414</td>\n",
              "      <td>3.699345</td>\n",
              "      <td>6.789628</td>\n",
              "      <td>10.729778</td>\n",
              "      <td>19.898844</td>\n",
              "      <td>9.372244</td>\n",
              "      <td>4.179729</td>\n",
              "      <td>0.530151</td>\n",
              "      <td>0.267012</td>\n",
              "      <td>0.811309</td>\n",
              "      <td>6.641086</td>\n",
              "      <td>10.535572</td>\n",
              "      <td>19.047827</td>\n",
              "      <td>9.125804</td>\n",
              "      <td>4.227960</td>\n",
              "      <td>4.959233</td>\n",
              "      <td>4.402140</td>\n",
              "      <td>5.035827</td>\n",
              "      <td>1.420060</td>\n",
              "      <td>3.962182e-06</td>\n",
              "    </tr>\n",
              "    <tr>\n",
              "      <th>3</th>\n",
              "      <td>199</td>\n",
              "      <td>5.933960</td>\n",
              "      <td>6.061193</td>\n",
              "      <td>-0.000002</td>\n",
              "      <td>4.902240</td>\n",
              "      <td>5.933982</td>\n",
              "      <td>5.934187</td>\n",
              "      <td>5.939037</td>\n",
              "      <td>5.933995</td>\n",
              "      <td>4.902291</td>\n",
              "      <td>4.901946</td>\n",
              "      <td>4.901486</td>\n",
              "      <td>4.902059</td>\n",
              "      <td>3.788192</td>\n",
              "      <td>4.533343</td>\n",
              "      <td>4.939280</td>\n",
              "      <td>4.475839</td>\n",
              "      <td>197</td>\n",
              "      <td>125.3</td>\n",
              "      <td>18.26</td>\n",
              "      <td>5.858</td>\n",
              "      <td>27.72</td>\n",
              "      <td>63.0</td>\n",
              "      <td>2.0</td>\n",
              "      <td>-1.0</td>\n",
              "      <td>3.0</td>\n",
              "      <td>141.450580</td>\n",
              "      <td>103.996664</td>\n",
              "      <td>52.805653</td>\n",
              "      <td>113.368462</td>\n",
              "      <td>-199</td>\n",
              "      <td>-50.0</td>\n",
              "      <td>8.0</td>\n",
              "      <td>12.0</td>\n",
              "      <td>7.0</td>\n",
              "      <td>-136.6</td>\n",
              "      <td>-9.37</td>\n",
              "      <td>3.722</td>\n",
              "      <td>-18.86</td>\n",
              "      <td>0.516398</td>\n",
              "      <td>...</td>\n",
              "      <td>8.5</td>\n",
              "      <td>5.61</td>\n",
              "      <td>5.317</td>\n",
              "      <td>5.88</td>\n",
              "      <td>4.0</td>\n",
              "      <td>0.0</td>\n",
              "      <td>-3.0</td>\n",
              "      <td>0.0</td>\n",
              "      <td>8.380533</td>\n",
              "      <td>10.367490</td>\n",
              "      <td>11.715642</td>\n",
              "      <td>10.503576</td>\n",
              "      <td>22.0</td>\n",
              "      <td>19.249384</td>\n",
              "      <td>26.380301</td>\n",
              "      <td>21.950987</td>\n",
              "      <td>25.757986</td>\n",
              "      <td>6.922282</td>\n",
              "      <td>4.692604</td>\n",
              "      <td>3.913703</td>\n",
              "      <td>2.782407</td>\n",
              "      <td>4.065653</td>\n",
              "      <td>7.088646</td>\n",
              "      <td>11.203181</td>\n",
              "      <td>20.417531</td>\n",
              "      <td>9.908524</td>\n",
              "      <td>4.299460</td>\n",
              "      <td>0.581874</td>\n",
              "      <td>0.266700</td>\n",
              "      <td>0.959834</td>\n",
              "      <td>6.695330</td>\n",
              "      <td>10.524292</td>\n",
              "      <td>20.248763</td>\n",
              "      <td>9.217610</td>\n",
              "      <td>4.284176</td>\n",
              "      <td>5.247130</td>\n",
              "      <td>4.873523</td>\n",
              "      <td>5.285204</td>\n",
              "      <td>1.412065</td>\n",
              "      <td>1.637207e-06</td>\n",
              "    </tr>\n",
              "    <tr>\n",
              "      <th>4</th>\n",
              "      <td>145</td>\n",
              "      <td>6.110587</td>\n",
              "      <td>6.329464</td>\n",
              "      <td>0.000005</td>\n",
              "      <td>4.908720</td>\n",
              "      <td>6.110644</td>\n",
              "      <td>6.111666</td>\n",
              "      <td>6.111178</td>\n",
              "      <td>6.111119</td>\n",
              "      <td>4.908728</td>\n",
              "      <td>4.909175</td>\n",
              "      <td>4.910196</td>\n",
              "      <td>4.908958</td>\n",
              "      <td>3.835604</td>\n",
              "      <td>4.761149</td>\n",
              "      <td>5.121868</td>\n",
              "      <td>4.700727</td>\n",
              "      <td>145</td>\n",
              "      <td>107.6</td>\n",
              "      <td>14.41</td>\n",
              "      <td>6.078</td>\n",
              "      <td>19.98</td>\n",
              "      <td>55.0</td>\n",
              "      <td>2.0</td>\n",
              "      <td>-2.0</td>\n",
              "      <td>3.0</td>\n",
              "      <td>99.647657</td>\n",
              "      <td>74.460128</td>\n",
              "      <td>45.532439</td>\n",
              "      <td>83.845592</td>\n",
              "      <td>-126</td>\n",
              "      <td>-46.0</td>\n",
              "      <td>9.0</td>\n",
              "      <td>12.0</td>\n",
              "      <td>7.0</td>\n",
              "      <td>-85.4</td>\n",
              "      <td>-1.97</td>\n",
              "      <td>3.918</td>\n",
              "      <td>-8.82</td>\n",
              "      <td>0.516398</td>\n",
              "      <td>...</td>\n",
              "      <td>8.8</td>\n",
              "      <td>5.63</td>\n",
              "      <td>5.306</td>\n",
              "      <td>5.92</td>\n",
              "      <td>4.0</td>\n",
              "      <td>-1.0</td>\n",
              "      <td>-3.0</td>\n",
              "      <td>0.0</td>\n",
              "      <td>8.547904</td>\n",
              "      <td>12.413820</td>\n",
              "      <td>13.923676</td>\n",
              "      <td>11.818811</td>\n",
              "      <td>26.0</td>\n",
              "      <td>23.109353</td>\n",
              "      <td>34.718196</td>\n",
              "      <td>31.978199</td>\n",
              "      <td>33.893154</td>\n",
              "      <td>7.301086</td>\n",
              "      <td>4.968916</td>\n",
              "      <td>4.066011</td>\n",
              "      <td>3.283458</td>\n",
              "      <td>4.226733</td>\n",
              "      <td>7.168784</td>\n",
              "      <td>11.843563</td>\n",
              "      <td>21.015139</td>\n",
              "      <td>10.274313</td>\n",
              "      <td>4.931291</td>\n",
              "      <td>0.566267</td>\n",
              "      <td>0.228005</td>\n",
              "      <td>0.903958</td>\n",
              "      <td>7.153246</td>\n",
              "      <td>11.844273</td>\n",
              "      <td>20.321001</td>\n",
              "      <td>10.305776</td>\n",
              "      <td>4.183253</td>\n",
              "      <td>5.556924</td>\n",
              "      <td>5.213365</td>\n",
              "      <td>5.610383</td>\n",
              "      <td>1.487371</td>\n",
              "      <td>-6.668392e-07</td>\n",
              "    </tr>\n",
              "  </tbody>\n",
              "</table>\n",
              "<p>5 rows × 124 columns</p>\n",
              "</div>"
            ],
            "text/plain": [
              "   abs_max  abs_mean   abs_std  ...  std_roll_std_50  std_to_mean         trend\n",
              "0      104  5.576567  4.333310  ...         3.176148     1.044425 -3.268300e-06\n",
              "1      181  5.734167  5.732758  ...         4.953472     1.394229  9.090424e-07\n",
              "2      140  6.152647  5.895925  ...         5.035827     1.420060  3.962182e-06\n",
              "3      199  5.933960  6.061193  ...         5.285204     1.412065  1.637207e-06\n",
              "4      145  6.110587  6.329464  ...         5.610383     1.487371 -6.668392e-07\n",
              "\n",
              "[5 rows x 124 columns]"
            ]
          },
          "metadata": {
            "tags": []
          },
          "execution_count": 4
        }
      ]
    },
    {
      "cell_type": "code",
      "metadata": {
        "id": "Bwd8qkPvOox4",
        "colab_type": "code",
        "outputId": "3edc315d-d1c7-4431-8f43-a24a2c8b27c8",
        "colab": {
          "base_uri": "https://localhost:8080/",
          "height": 102
        }
      },
      "source": [
        "X.info()"
      ],
      "execution_count": 5,
      "outputs": [
        {
          "output_type": "stream",
          "text": [
            "<class 'pandas.core.frame.DataFrame'>\n",
            "RangeIndex: 4195 entries, 0 to 4194\n",
            "Columns: 124 entries, abs_max to trend\n",
            "dtypes: float64(121), int64(3)\n",
            "memory usage: 4.0 MB\n"
          ],
          "name": "stdout"
        }
      ]
    },
    {
      "cell_type": "code",
      "metadata": {
        "id": "Qt7cAq6EOsjD",
        "colab_type": "code",
        "outputId": "75ae17b9-f9c8-40ed-e2bb-a6fcc73c39a9",
        "colab": {
          "base_uri": "https://localhost:8080/",
          "height": 397
        }
      },
      "source": [
        "X.describe()"
      ],
      "execution_count": 6,
      "outputs": [
        {
          "output_type": "execute_result",
          "data": {
            "text/html": [
              "<div>\n",
              "<style scoped>\n",
              "    .dataframe tbody tr th:only-of-type {\n",
              "        vertical-align: middle;\n",
              "    }\n",
              "\n",
              "    .dataframe tbody tr th {\n",
              "        vertical-align: top;\n",
              "    }\n",
              "\n",
              "    .dataframe thead th {\n",
              "        text-align: right;\n",
              "    }\n",
              "</style>\n",
              "<table border=\"1\" class=\"dataframe\">\n",
              "  <thead>\n",
              "    <tr style=\"text-align: right;\">\n",
              "      <th></th>\n",
              "      <th>abs_max</th>\n",
              "      <th>abs_mean</th>\n",
              "      <th>abs_std</th>\n",
              "      <th>abs_trend</th>\n",
              "      <th>ave</th>\n",
              "      <th>ave_roll_abs_mean_10</th>\n",
              "      <th>ave_roll_abs_mean_100</th>\n",
              "      <th>ave_roll_abs_mean_1000</th>\n",
              "      <th>ave_roll_abs_mean_50</th>\n",
              "      <th>ave_roll_mean_10</th>\n",
              "      <th>ave_roll_mean_100</th>\n",
              "      <th>ave_roll_mean_1000</th>\n",
              "      <th>ave_roll_mean_50</th>\n",
              "      <th>ave_roll_std_10</th>\n",
              "      <th>ave_roll_std_100</th>\n",
              "      <th>ave_roll_std_1000</th>\n",
              "      <th>ave_roll_std_50</th>\n",
              "      <th>max</th>\n",
              "      <th>max_roll_mean_10</th>\n",
              "      <th>max_roll_mean_100</th>\n",
              "      <th>max_roll_mean_1000</th>\n",
              "      <th>max_roll_mean_50</th>\n",
              "      <th>max_roll_min_10</th>\n",
              "      <th>max_roll_min_100</th>\n",
              "      <th>max_roll_min_1000</th>\n",
              "      <th>max_roll_min_50</th>\n",
              "      <th>max_roll_std_10</th>\n",
              "      <th>max_roll_std_100</th>\n",
              "      <th>max_roll_std_1000</th>\n",
              "      <th>max_roll_std_50</th>\n",
              "      <th>min</th>\n",
              "      <th>min_roll_max_10</th>\n",
              "      <th>min_roll_max_100</th>\n",
              "      <th>min_roll_max_1000</th>\n",
              "      <th>min_roll_max_50</th>\n",
              "      <th>min_roll_mean_10</th>\n",
              "      <th>min_roll_mean_100</th>\n",
              "      <th>min_roll_mean_1000</th>\n",
              "      <th>min_roll_mean_50</th>\n",
              "      <th>min_roll_std_10</th>\n",
              "      <th>...</th>\n",
              "      <th>q95_roll_mean_10</th>\n",
              "      <th>q95_roll_mean_100</th>\n",
              "      <th>q95_roll_mean_1000</th>\n",
              "      <th>q95_roll_mean_50</th>\n",
              "      <th>q95_roll_min_10</th>\n",
              "      <th>q95_roll_min_100</th>\n",
              "      <th>q95_roll_min_1000</th>\n",
              "      <th>q95_roll_min_50</th>\n",
              "      <th>q95_roll_std_10</th>\n",
              "      <th>q95_roll_std_100</th>\n",
              "      <th>q95_roll_std_1000</th>\n",
              "      <th>q95_roll_std_50</th>\n",
              "      <th>q99</th>\n",
              "      <th>q99_roll_std_10</th>\n",
              "      <th>q99_roll_std_100</th>\n",
              "      <th>q99_roll_std_1000</th>\n",
              "      <th>q99_roll_std_50</th>\n",
              "      <th>std</th>\n",
              "      <th>std_roll_abs_mean_10</th>\n",
              "      <th>std_roll_abs_mean_100</th>\n",
              "      <th>std_roll_abs_mean_1000</th>\n",
              "      <th>std_roll_abs_mean_50</th>\n",
              "      <th>std_roll_max_10</th>\n",
              "      <th>std_roll_max_100</th>\n",
              "      <th>std_roll_max_1000</th>\n",
              "      <th>std_roll_max_50</th>\n",
              "      <th>std_roll_mean_10</th>\n",
              "      <th>std_roll_mean_100</th>\n",
              "      <th>std_roll_mean_1000</th>\n",
              "      <th>std_roll_mean_50</th>\n",
              "      <th>std_roll_min_10</th>\n",
              "      <th>std_roll_min_100</th>\n",
              "      <th>std_roll_min_1000</th>\n",
              "      <th>std_roll_min_50</th>\n",
              "      <th>std_roll_std_10</th>\n",
              "      <th>std_roll_std_100</th>\n",
              "      <th>std_roll_std_1000</th>\n",
              "      <th>std_roll_std_50</th>\n",
              "      <th>std_to_mean</th>\n",
              "      <th>trend</th>\n",
              "    </tr>\n",
              "  </thead>\n",
              "  <tbody>\n",
              "    <tr>\n",
              "      <th>count</th>\n",
              "      <td>4195.000000</td>\n",
              "      <td>4195.000000</td>\n",
              "      <td>4195.000000</td>\n",
              "      <td>4.195000e+03</td>\n",
              "      <td>4195.000000</td>\n",
              "      <td>4195.000000</td>\n",
              "      <td>4195.000000</td>\n",
              "      <td>4195.000000</td>\n",
              "      <td>4195.000000</td>\n",
              "      <td>4195.000000</td>\n",
              "      <td>4195.000000</td>\n",
              "      <td>4195.000000</td>\n",
              "      <td>4195.000000</td>\n",
              "      <td>4195.000000</td>\n",
              "      <td>4195.000000</td>\n",
              "      <td>4195.000000</td>\n",
              "      <td>4195.000000</td>\n",
              "      <td>4195.000000</td>\n",
              "      <td>4195.000000</td>\n",
              "      <td>4195.000000</td>\n",
              "      <td>4195.000000</td>\n",
              "      <td>4195.000000</td>\n",
              "      <td>4195.000000</td>\n",
              "      <td>4195.000000</td>\n",
              "      <td>4195.000000</td>\n",
              "      <td>4195.000000</td>\n",
              "      <td>4195.000000</td>\n",
              "      <td>4195.000000</td>\n",
              "      <td>4195.000000</td>\n",
              "      <td>4195.000000</td>\n",
              "      <td>4195.000000</td>\n",
              "      <td>4195.000000</td>\n",
              "      <td>4195.000000</td>\n",
              "      <td>4195.000000</td>\n",
              "      <td>4195.000000</td>\n",
              "      <td>4195.000000</td>\n",
              "      <td>4195.000000</td>\n",
              "      <td>4195.000000</td>\n",
              "      <td>4195.000000</td>\n",
              "      <td>4195.000000</td>\n",
              "      <td>...</td>\n",
              "      <td>4195.000000</td>\n",
              "      <td>4195.000000</td>\n",
              "      <td>4195.000000</td>\n",
              "      <td>4195.000000</td>\n",
              "      <td>4195.000000</td>\n",
              "      <td>4195.000000</td>\n",
              "      <td>4195.000000</td>\n",
              "      <td>4195.000000</td>\n",
              "      <td>4195.000000</td>\n",
              "      <td>4195.000000</td>\n",
              "      <td>4195.000000</td>\n",
              "      <td>4195.000000</td>\n",
              "      <td>4195.000000</td>\n",
              "      <td>4195.000000</td>\n",
              "      <td>4195.000000</td>\n",
              "      <td>4195.000000</td>\n",
              "      <td>4195.000000</td>\n",
              "      <td>4195.000000</td>\n",
              "      <td>4195.000000</td>\n",
              "      <td>4195.000000</td>\n",
              "      <td>4195.000000</td>\n",
              "      <td>4195.000000</td>\n",
              "      <td>4195.000000</td>\n",
              "      <td>4195.000000</td>\n",
              "      <td>4195.000000</td>\n",
              "      <td>4195.000000</td>\n",
              "      <td>4195.000000</td>\n",
              "      <td>4195.000000</td>\n",
              "      <td>4195.000000</td>\n",
              "      <td>4195.000000</td>\n",
              "      <td>4195.000000</td>\n",
              "      <td>4195.000000</td>\n",
              "      <td>4195.000000</td>\n",
              "      <td>4195.000000</td>\n",
              "      <td>4195.000000</td>\n",
              "      <td>4195.000000</td>\n",
              "      <td>4195.000000</td>\n",
              "      <td>4195.000000</td>\n",
              "      <td>4195.000000</td>\n",
              "      <td>4.195000e+03</td>\n",
              "    </tr>\n",
              "    <tr>\n",
              "      <th>mean</th>\n",
              "      <td>170.046246</td>\n",
              "      <td>5.547367</td>\n",
              "      <td>5.750146</td>\n",
              "      <td>2.827748e-07</td>\n",
              "      <td>4.519475</td>\n",
              "      <td>5.547369</td>\n",
              "      <td>5.547399</td>\n",
              "      <td>5.547748</td>\n",
              "      <td>5.547382</td>\n",
              "      <td>4.519477</td>\n",
              "      <td>4.519478</td>\n",
              "      <td>4.519456</td>\n",
              "      <td>4.519477</td>\n",
              "      <td>3.670175</td>\n",
              "      <td>4.324123</td>\n",
              "      <td>4.651123</td>\n",
              "      <td>4.274215</td>\n",
              "      <td>163.522288</td>\n",
              "      <td>107.347986</td>\n",
              "      <td>13.815514</td>\n",
              "      <td>5.643794</td>\n",
              "      <td>20.947399</td>\n",
              "      <td>53.713945</td>\n",
              "      <td>1.063886</td>\n",
              "      <td>-2.190226</td>\n",
              "      <td>2.286293</td>\n",
              "      <td>115.372559</td>\n",
              "      <td>76.680334</td>\n",
              "      <td>40.591248</td>\n",
              "      <td>88.130732</td>\n",
              "      <td>-149.190942</td>\n",
              "      <td>-43.518713</td>\n",
              "      <td>7.963766</td>\n",
              "      <td>11.233611</td>\n",
              "      <td>6.734446</td>\n",
              "      <td>-94.670656</td>\n",
              "      <td>-4.217924</td>\n",
              "      <td>3.472437</td>\n",
              "      <td>-10.853921</td>\n",
              "      <td>0.501022</td>\n",
              "      <td>...</td>\n",
              "      <td>7.861728</td>\n",
              "      <td>5.201020</td>\n",
              "      <td>4.921990</td>\n",
              "      <td>5.440055</td>\n",
              "      <td>3.247914</td>\n",
              "      <td>-0.839094</td>\n",
              "      <td>-3.473421</td>\n",
              "      <td>0.047676</td>\n",
              "      <td>7.805958</td>\n",
              "      <td>9.649532</td>\n",
              "      <td>10.841457</td>\n",
              "      <td>9.500056</td>\n",
              "      <td>20.321890</td>\n",
              "      <td>19.479767</td>\n",
              "      <td>25.398655</td>\n",
              "      <td>25.955050</td>\n",
              "      <td>25.097586</td>\n",
              "      <td>6.547766</td>\n",
              "      <td>4.289140</td>\n",
              "      <td>3.472697</td>\n",
              "      <td>2.548501</td>\n",
              "      <td>3.629211</td>\n",
              "      <td>6.391825</td>\n",
              "      <td>10.353373</td>\n",
              "      <td>19.190201</td>\n",
              "      <td>8.999241</td>\n",
              "      <td>3.889181</td>\n",
              "      <td>0.534752</td>\n",
              "      <td>0.253687</td>\n",
              "      <td>0.818008</td>\n",
              "      <td>6.325199</td>\n",
              "      <td>10.151561</td>\n",
              "      <td>18.635940</td>\n",
              "      <td>8.845749</td>\n",
              "      <td>3.953465</td>\n",
              "      <td>4.716218</td>\n",
              "      <td>4.341253</td>\n",
              "      <td>4.770913</td>\n",
              "      <td>1.452344</td>\n",
              "      <td>9.810856e-09</td>\n",
              "    </tr>\n",
              "    <tr>\n",
              "      <th>std</th>\n",
              "      <td>296.887015</td>\n",
              "      <td>1.517038</td>\n",
              "      <td>8.339184</td>\n",
              "      <td>2.816430e-05</td>\n",
              "      <td>0.256049</td>\n",
              "      <td>1.517101</td>\n",
              "      <td>1.517714</td>\n",
              "      <td>1.524615</td>\n",
              "      <td>1.517372</td>\n",
              "      <td>0.256047</td>\n",
              "      <td>0.256051</td>\n",
              "      <td>0.256134</td>\n",
              "      <td>0.256048</td>\n",
              "      <td>1.286996</td>\n",
              "      <td>1.995046</td>\n",
              "      <td>2.204306</td>\n",
              "      <td>1.943615</td>\n",
              "      <td>272.930331</td>\n",
              "      <td>198.948002</td>\n",
              "      <td>24.602328</td>\n",
              "      <td>3.144851</td>\n",
              "      <td>43.898445</td>\n",
              "      <td>120.136779</td>\n",
              "      <td>0.421433</td>\n",
              "      <td>0.519115</td>\n",
              "      <td>0.627832</td>\n",
              "      <td>181.270841</td>\n",
              "      <td>130.969943</td>\n",
              "      <td>85.319499</td>\n",
              "      <td>150.677020</td>\n",
              "      <td>265.087984</td>\n",
              "      <td>127.252614</td>\n",
              "      <td>0.416199</td>\n",
              "      <td>0.521603</td>\n",
              "      <td>0.808304</td>\n",
              "      <td>197.432199</td>\n",
              "      <td>21.785600</td>\n",
              "      <td>2.376465</td>\n",
              "      <td>40.415492</td>\n",
              "      <td>0.071198</td>\n",
              "      <td>...</td>\n",
              "      <td>1.620100</td>\n",
              "      <td>0.304166</td>\n",
              "      <td>0.275659</td>\n",
              "      <td>0.364587</td>\n",
              "      <td>0.437340</td>\n",
              "      <td>0.449762</td>\n",
              "      <td>0.589971</td>\n",
              "      <td>0.390781</td>\n",
              "      <td>3.998553</td>\n",
              "      <td>5.754333</td>\n",
              "      <td>6.156917</td>\n",
              "      <td>5.650436</td>\n",
              "      <td>14.225526</td>\n",
              "      <td>24.840843</td>\n",
              "      <td>44.896078</td>\n",
              "      <td>52.294420</td>\n",
              "      <td>42.489372</td>\n",
              "      <td>8.503911</td>\n",
              "      <td>7.539301</td>\n",
              "      <td>6.830866</td>\n",
              "      <td>6.326787</td>\n",
              "      <td>6.957670</td>\n",
              "      <td>9.730772</td>\n",
              "      <td>17.772693</td>\n",
              "      <td>29.216820</td>\n",
              "      <td>15.324424</td>\n",
              "      <td>6.419866</td>\n",
              "      <td>0.836701</td>\n",
              "      <td>0.156512</td>\n",
              "      <td>1.597011</td>\n",
              "      <td>9.647006</td>\n",
              "      <td>17.534942</td>\n",
              "      <td>28.564712</td>\n",
              "      <td>15.154531</td>\n",
              "      <td>5.885327</td>\n",
              "      <td>8.395670</td>\n",
              "      <td>8.389641</td>\n",
              "      <td>8.335026</td>\n",
              "      <td>1.877547</td>\n",
              "      <td>1.863566e-06</td>\n",
              "    </tr>\n",
              "    <tr>\n",
              "      <th>min</th>\n",
              "      <td>23.000000</td>\n",
              "      <td>4.147707</td>\n",
              "      <td>2.589077</td>\n",
              "      <td>-6.957745e-04</td>\n",
              "      <td>3.596313</td>\n",
              "      <td>4.147750</td>\n",
              "      <td>4.147914</td>\n",
              "      <td>4.148826</td>\n",
              "      <td>4.147811</td>\n",
              "      <td>3.596504</td>\n",
              "      <td>3.596501</td>\n",
              "      <td>3.596077</td>\n",
              "      <td>3.596527</td>\n",
              "      <td>2.577061</td>\n",
              "      <td>2.745880</td>\n",
              "      <td>2.773865</td>\n",
              "      <td>2.735844</td>\n",
              "      <td>23.000000</td>\n",
              "      <td>14.300000</td>\n",
              "      <td>5.610000</td>\n",
              "      <td>4.258000</td>\n",
              "      <td>6.480000</td>\n",
              "      <td>7.000000</td>\n",
              "      <td>0.000000</td>\n",
              "      <td>-6.000000</td>\n",
              "      <td>1.000000</td>\n",
              "      <td>12.908223</td>\n",
              "      <td>9.336250</td>\n",
              "      <td>4.835572</td>\n",
              "      <td>10.141932</td>\n",
              "      <td>-5515.000000</td>\n",
              "      <td>-2942.000000</td>\n",
              "      <td>6.000000</td>\n",
              "      <td>10.000000</td>\n",
              "      <td>-33.000000</td>\n",
              "      <td>-4380.100000</td>\n",
              "      <td>-440.510000</td>\n",
              "      <td>-48.778000</td>\n",
              "      <td>-759.760000</td>\n",
              "      <td>0.000000</td>\n",
              "      <td>...</td>\n",
              "      <td>5.700000</td>\n",
              "      <td>4.260000</td>\n",
              "      <td>3.973000</td>\n",
              "      <td>4.440000</td>\n",
              "      <td>2.000000</td>\n",
              "      <td>-3.000000</td>\n",
              "      <td>-8.000000</td>\n",
              "      <td>-2.000000</td>\n",
              "      <td>3.864367</td>\n",
              "      <td>3.304282</td>\n",
              "      <td>3.406593</td>\n",
              "      <td>3.401140</td>\n",
              "      <td>11.000000</td>\n",
              "      <td>5.081557</td>\n",
              "      <td>5.097623</td>\n",
              "      <td>4.430800</td>\n",
              "      <td>5.142877</td>\n",
              "      <td>2.802711</td>\n",
              "      <td>1.066584</td>\n",
              "      <td>0.390083</td>\n",
              "      <td>0.244680</td>\n",
              "      <td>0.471731</td>\n",
              "      <td>1.857416</td>\n",
              "      <td>1.616531</td>\n",
              "      <td>2.094129</td>\n",
              "      <td>1.637408</td>\n",
              "      <td>1.137945</td>\n",
              "      <td>0.336553</td>\n",
              "      <td>0.169593</td>\n",
              "      <td>0.441749</td>\n",
              "      <td>1.816920</td>\n",
              "      <td>1.580056</td>\n",
              "      <td>2.169638</td>\n",
              "      <td>1.579772</td>\n",
              "      <td>0.805045</td>\n",
              "      <td>0.518681</td>\n",
              "      <td>0.348214</td>\n",
              "      <td>0.575145</td>\n",
              "      <td>0.575754</td>\n",
              "      <td>-8.239300e-06</td>\n",
              "    </tr>\n",
              "    <tr>\n",
              "      <th>25%</th>\n",
              "      <td>94.000000</td>\n",
              "      <td>5.061843</td>\n",
              "      <td>3.862797</td>\n",
              "      <td>-3.119014e-06</td>\n",
              "      <td>4.349497</td>\n",
              "      <td>5.061879</td>\n",
              "      <td>5.061823</td>\n",
              "      <td>5.060800</td>\n",
              "      <td>5.061802</td>\n",
              "      <td>4.349577</td>\n",
              "      <td>4.349398</td>\n",
              "      <td>4.349205</td>\n",
              "      <td>4.349416</td>\n",
              "      <td>3.114616</td>\n",
              "      <td>3.501696</td>\n",
              "      <td>3.692809</td>\n",
              "      <td>3.473119</td>\n",
              "      <td>92.000000</td>\n",
              "      <td>56.500000</td>\n",
              "      <td>8.780000</td>\n",
              "      <td>5.143500</td>\n",
              "      <td>11.860000</td>\n",
              "      <td>25.000000</td>\n",
              "      <td>1.000000</td>\n",
              "      <td>-2.000000</td>\n",
              "      <td>2.000000</td>\n",
              "      <td>65.251862</td>\n",
              "      <td>42.138405</td>\n",
              "      <td>21.062831</td>\n",
              "      <td>48.417304</td>\n",
              "      <td>-154.000000</td>\n",
              "      <td>-44.000000</td>\n",
              "      <td>8.000000</td>\n",
              "      <td>11.000000</td>\n",
              "      <td>6.000000</td>\n",
              "      <td>-97.800000</td>\n",
              "      <td>-4.055000</td>\n",
              "      <td>3.446000</td>\n",
              "      <td>-10.330000</td>\n",
              "      <td>0.471405</td>\n",
              "      <td>...</td>\n",
              "      <td>7.000000</td>\n",
              "      <td>5.020000</td>\n",
              "      <td>4.741000</td>\n",
              "      <td>5.240000</td>\n",
              "      <td>3.000000</td>\n",
              "      <td>-1.000000</td>\n",
              "      <td>-4.000000</td>\n",
              "      <td>0.000000</td>\n",
              "      <td>5.557777</td>\n",
              "      <td>6.516796</td>\n",
              "      <td>7.426118</td>\n",
              "      <td>6.434267</td>\n",
              "      <td>15.000000</td>\n",
              "      <td>12.936984</td>\n",
              "      <td>15.494052</td>\n",
              "      <td>14.846658</td>\n",
              "      <td>15.445153</td>\n",
              "      <td>4.478622</td>\n",
              "      <td>2.514881</td>\n",
              "      <td>1.865698</td>\n",
              "      <td>1.238512</td>\n",
              "      <td>1.980886</td>\n",
              "      <td>4.029071</td>\n",
              "      <td>6.088541</td>\n",
              "      <td>11.482163</td>\n",
              "      <td>5.325360</td>\n",
              "      <td>2.362520</td>\n",
              "      <td>0.404420</td>\n",
              "      <td>0.220917</td>\n",
              "      <td>0.551658</td>\n",
              "      <td>3.984571</td>\n",
              "      <td>5.920145</td>\n",
              "      <td>11.046670</td>\n",
              "      <td>5.224230</td>\n",
              "      <td>2.469607</td>\n",
              "      <td>2.711980</td>\n",
              "      <td>2.395727</td>\n",
              "      <td>2.764085</td>\n",
              "      <td>0.983976</td>\n",
              "      <td>-1.189593e-06</td>\n",
              "    </tr>\n",
              "    <tr>\n",
              "      <th>50%</th>\n",
              "      <td>127.000000</td>\n",
              "      <td>5.380853</td>\n",
              "      <td>4.781497</td>\n",
              "      <td>-2.804543e-08</td>\n",
              "      <td>4.522147</td>\n",
              "      <td>5.380947</td>\n",
              "      <td>5.381225</td>\n",
              "      <td>5.381206</td>\n",
              "      <td>5.381114</td>\n",
              "      <td>4.522260</td>\n",
              "      <td>4.522093</td>\n",
              "      <td>4.521863</td>\n",
              "      <td>4.522087</td>\n",
              "      <td>3.554442</td>\n",
              "      <td>4.133050</td>\n",
              "      <td>4.429380</td>\n",
              "      <td>4.087701</td>\n",
              "      <td>123.000000</td>\n",
              "      <td>78.800000</td>\n",
              "      <td>10.720000</td>\n",
              "      <td>5.355000</td>\n",
              "      <td>15.380000</td>\n",
              "      <td>36.000000</td>\n",
              "      <td>1.000000</td>\n",
              "      <td>-2.000000</td>\n",
              "      <td>2.000000</td>\n",
              "      <td>88.169030</td>\n",
              "      <td>57.589262</td>\n",
              "      <td>29.258517</td>\n",
              "      <td>66.211707</td>\n",
              "      <td>-111.000000</td>\n",
              "      <td>-25.000000</td>\n",
              "      <td>8.000000</td>\n",
              "      <td>11.000000</td>\n",
              "      <td>7.000000</td>\n",
              "      <td>-66.400000</td>\n",
              "      <td>-1.360000</td>\n",
              "      <td>3.701000</td>\n",
              "      <td>-5.680000</td>\n",
              "      <td>0.516398</td>\n",
              "      <td>...</td>\n",
              "      <td>7.700000</td>\n",
              "      <td>5.200000</td>\n",
              "      <td>4.921000</td>\n",
              "      <td>5.420000</td>\n",
              "      <td>3.000000</td>\n",
              "      <td>-1.000000</td>\n",
              "      <td>-3.000000</td>\n",
              "      <td>0.000000</td>\n",
              "      <td>7.471427</td>\n",
              "      <td>9.188728</td>\n",
              "      <td>10.156123</td>\n",
              "      <td>9.019254</td>\n",
              "      <td>19.000000</td>\n",
              "      <td>17.271042</td>\n",
              "      <td>21.035946</td>\n",
              "      <td>20.222500</td>\n",
              "      <td>21.017626</td>\n",
              "      <td>5.618779</td>\n",
              "      <td>3.420479</td>\n",
              "      <td>2.672824</td>\n",
              "      <td>1.809002</td>\n",
              "      <td>2.815905</td>\n",
              "      <td>5.300763</td>\n",
              "      <td>8.331150</td>\n",
              "      <td>15.656135</td>\n",
              "      <td>7.238197</td>\n",
              "      <td>3.156754</td>\n",
              "      <td>0.446583</td>\n",
              "      <td>0.240018</td>\n",
              "      <td>0.644856</td>\n",
              "      <td>5.255642</td>\n",
              "      <td>8.166317</td>\n",
              "      <td>15.161025</td>\n",
              "      <td>7.123069</td>\n",
              "      <td>3.298233</td>\n",
              "      <td>3.774329</td>\n",
              "      <td>3.366605</td>\n",
              "      <td>3.837120</td>\n",
              "      <td>1.234434</td>\n",
              "      <td>2.777315e-08</td>\n",
              "    </tr>\n",
              "    <tr>\n",
              "      <th>75%</th>\n",
              "      <td>175.000000</td>\n",
              "      <td>5.748553</td>\n",
              "      <td>5.887928</td>\n",
              "      <td>2.967910e-06</td>\n",
              "      <td>4.693350</td>\n",
              "      <td>5.748625</td>\n",
              "      <td>5.748684</td>\n",
              "      <td>5.748745</td>\n",
              "      <td>5.748880</td>\n",
              "      <td>4.693564</td>\n",
              "      <td>4.693369</td>\n",
              "      <td>4.693064</td>\n",
              "      <td>4.693465</td>\n",
              "      <td>3.954471</td>\n",
              "      <td>4.725503</td>\n",
              "      <td>5.140581</td>\n",
              "      <td>4.666198</td>\n",
              "      <td>170.000000</td>\n",
              "      <td>110.600000</td>\n",
              "      <td>13.530000</td>\n",
              "      <td>5.591500</td>\n",
              "      <td>20.290000</td>\n",
              "      <td>54.500000</td>\n",
              "      <td>1.000000</td>\n",
              "      <td>-2.000000</td>\n",
              "      <td>3.000000</td>\n",
              "      <td>121.747576</td>\n",
              "      <td>79.153485</td>\n",
              "      <td>40.102438</td>\n",
              "      <td>91.362165</td>\n",
              "      <td>-79.000000</td>\n",
              "      <td>-15.000000</td>\n",
              "      <td>8.000000</td>\n",
              "      <td>12.000000</td>\n",
              "      <td>7.000000</td>\n",
              "      <td>-45.500000</td>\n",
              "      <td>0.470000</td>\n",
              "      <td>3.905500</td>\n",
              "      <td>-2.460000</td>\n",
              "      <td>0.527046</td>\n",
              "      <td>...</td>\n",
              "      <td>8.400000</td>\n",
              "      <td>5.370000</td>\n",
              "      <td>5.097000</td>\n",
              "      <td>5.600000</td>\n",
              "      <td>3.000000</td>\n",
              "      <td>-1.000000</td>\n",
              "      <td>-3.000000</td>\n",
              "      <td>0.000000</td>\n",
              "      <td>9.165303</td>\n",
              "      <td>11.572510</td>\n",
              "      <td>12.967943</td>\n",
              "      <td>11.379224</td>\n",
              "      <td>23.000000</td>\n",
              "      <td>21.843827</td>\n",
              "      <td>27.445976</td>\n",
              "      <td>26.760630</td>\n",
              "      <td>27.236990</td>\n",
              "      <td>6.880881</td>\n",
              "      <td>4.503888</td>\n",
              "      <td>3.676918</td>\n",
              "      <td>2.579166</td>\n",
              "      <td>3.847240</td>\n",
              "      <td>6.766135</td>\n",
              "      <td>11.000792</td>\n",
              "      <td>20.879746</td>\n",
              "      <td>9.550317</td>\n",
              "      <td>4.090630</td>\n",
              "      <td>0.506332</td>\n",
              "      <td>0.260673</td>\n",
              "      <td>0.775337</td>\n",
              "      <td>6.693029</td>\n",
              "      <td>10.801849</td>\n",
              "      <td>20.223675</td>\n",
              "      <td>9.396328</td>\n",
              "      <td>4.259748</td>\n",
              "      <td>5.014887</td>\n",
              "      <td>4.565561</td>\n",
              "      <td>5.087020</td>\n",
              "      <td>1.538038</td>\n",
              "      <td>1.240012e-06</td>\n",
              "    </tr>\n",
              "    <tr>\n",
              "      <th>max</th>\n",
              "      <td>5515.000000</td>\n",
              "      <td>32.762073</td>\n",
              "      <td>150.431867</td>\n",
              "      <td>6.645023e-04</td>\n",
              "      <td>5.391993</td>\n",
              "      <td>32.763702</td>\n",
              "      <td>32.779745</td>\n",
              "      <td>32.943215</td>\n",
              "      <td>32.770866</td>\n",
              "      <td>5.392382</td>\n",
              "      <td>5.392520</td>\n",
              "      <td>5.392530</td>\n",
              "      <td>5.392635</td>\n",
              "      <td>26.104125</td>\n",
              "      <td>39.153994</td>\n",
              "      <td>42.577829</td>\n",
              "      <td>38.330531</td>\n",
              "      <td>5444.000000</td>\n",
              "      <td>4135.900000</td>\n",
              "      <td>496.210000</td>\n",
              "      <td>73.842000</td>\n",
              "      <td>1148.480000</td>\n",
              "      <td>2273.000000</td>\n",
              "      <td>3.000000</td>\n",
              "      <td>-1.000000</td>\n",
              "      <td>27.000000</td>\n",
              "      <td>3362.470205</td>\n",
              "      <td>2330.991322</td>\n",
              "      <td>1499.510732</td>\n",
              "      <td>2841.080581</td>\n",
              "      <td>-15.000000</td>\n",
              "      <td>2.000000</td>\n",
              "      <td>9.000000</td>\n",
              "      <td>14.000000</td>\n",
              "      <td>8.000000</td>\n",
              "      <td>-3.800000</td>\n",
              "      <td>3.560000</td>\n",
              "      <td>4.627000</td>\n",
              "      <td>2.900000</td>\n",
              "      <td>0.699206</td>\n",
              "      <td>...</td>\n",
              "      <td>34.800000</td>\n",
              "      <td>8.470000</td>\n",
              "      <td>7.226000</td>\n",
              "      <td>10.660000</td>\n",
              "      <td>5.000000</td>\n",
              "      <td>0.000000</td>\n",
              "      <td>-2.000000</td>\n",
              "      <td>1.000000</td>\n",
              "      <td>76.123073</td>\n",
              "      <td>117.385496</td>\n",
              "      <td>122.769261</td>\n",
              "      <td>116.905097</td>\n",
              "      <td>337.000000</td>\n",
              "      <td>567.733784</td>\n",
              "      <td>968.049711</td>\n",
              "      <td>981.881653</td>\n",
              "      <td>950.212482</td>\n",
              "      <td>153.703057</td>\n",
              "      <td>133.829659</td>\n",
              "      <td>121.538233</td>\n",
              "      <td>114.647785</td>\n",
              "      <td>123.564421</td>\n",
              "      <td>176.649372</td>\n",
              "      <td>314.058356</td>\n",
              "      <td>518.671087</td>\n",
              "      <td>272.285412</td>\n",
              "      <td>110.672450</td>\n",
              "      <td>15.966910</td>\n",
              "      <td>3.577035</td>\n",
              "      <td>31.356651</td>\n",
              "      <td>177.335309</td>\n",
              "      <td>326.429215</td>\n",
              "      <td>536.835965</td>\n",
              "      <td>277.918474</td>\n",
              "      <td>109.412310</td>\n",
              "      <td>148.947193</td>\n",
              "      <td>148.730285</td>\n",
              "      <td>147.485651</td>\n",
              "      <td>34.866320</td>\n",
              "      <td>9.528734e-06</td>\n",
              "    </tr>\n",
              "  </tbody>\n",
              "</table>\n",
              "<p>8 rows × 124 columns</p>\n",
              "</div>"
            ],
            "text/plain": [
              "           abs_max     abs_mean  ...  std_to_mean         trend\n",
              "count  4195.000000  4195.000000  ...  4195.000000  4.195000e+03\n",
              "mean    170.046246     5.547367  ...     1.452344  9.810856e-09\n",
              "std     296.887015     1.517038  ...     1.877547  1.863566e-06\n",
              "min      23.000000     4.147707  ...     0.575754 -8.239300e-06\n",
              "25%      94.000000     5.061843  ...     0.983976 -1.189593e-06\n",
              "50%     127.000000     5.380853  ...     1.234434  2.777315e-08\n",
              "75%     175.000000     5.748553  ...     1.538038  1.240012e-06\n",
              "max    5515.000000    32.762073  ...    34.866320  9.528734e-06\n",
              "\n",
              "[8 rows x 124 columns]"
            ]
          },
          "metadata": {
            "tags": []
          },
          "execution_count": 6
        }
      ]
    },
    {
      "cell_type": "markdown",
      "metadata": {
        "id": "pvPlpnL_ALgk",
        "colab_type": "text"
      },
      "source": [
        "#  Training"
      ]
    },
    {
      "cell_type": "code",
      "metadata": {
        "id": "Rotmku1tvHcT",
        "colab_type": "code",
        "outputId": "fe48b048-79f2-4bca-98ed-d684b161e70f",
        "colab": {
          "base_uri": "https://localhost:8080/",
          "height": 34
        }
      },
      "source": [
        "#import required libraries\n",
        "from keras.models import Sequential\n",
        "from keras.layers import Dense, Dropout\n",
        "from keras.callbacks import EarlyStopping, ModelCheckpoint, ReduceLROnPlateau\n",
        "from keras.optimizers import Adam\n",
        "from keras.wrappers.scikit_learn import KerasRegressor\n",
        "from sklearn.model_selection import cross_val_score\n",
        "from sklearn.model_selection import KFold\n",
        "from sklearn.preprocessing import StandardScaler\n",
        "from sklearn.pipeline import Pipeline\n",
        "import numpy as np\n",
        "from sklearn.model_selection import train_test_split\n",
        "from keras.models import load_model\n",
        "import matplotlib.pyplot as plt"
      ],
      "execution_count": 7,
      "outputs": [
        {
          "output_type": "stream",
          "text": [
            "Using TensorFlow backend.\n"
          ],
          "name": "stderr"
        }
      ]
    },
    {
      "cell_type": "code",
      "metadata": {
        "id": "icmZs1mMEEqN",
        "colab_type": "code",
        "colab": {}
      },
      "source": [
        "#split the training and target data into 3/4 for training and 1/4 for validation. Choose your split with test_size= values ranging from [0,1] percentage of data\n",
        "x_train, x_test, y_train, y_test = train_test_split(X.values, Y.values, test_size=0.2, random_state=42)"
      ],
      "execution_count": 0,
      "outputs": []
    },
    {
      "cell_type": "code",
      "metadata": {
        "id": "aUMdqk6tvkuP",
        "colab_type": "code",
        "outputId": "dc159ce6-e52a-42c7-e4be-a7fce5f2a753",
        "colab": {
          "base_uri": "https://localhost:8080/",
          "height": 139
        }
      },
      "source": [
        "#We create a Fully Connected Dense Net Initial width 83 and Depth of 2 layers each activated by relu besides the last(output layer) as this is a regression type neural network\n",
        "model = Sequential()\n",
        "model.add(Dense(83 , input_dim=x_train.shape[1], kernel_initializer='normal', activation='relu'))\n",
        "model.add(Dropout(0.2))\n",
        "model.add(Dense(38,  kernel_initializer='normal', activation='relu'))\n",
        "model.add(Dropout(0.1))\n",
        "model.add(Dense(1, activation='linear'))\n",
        "model.compile(loss='logcosh', optimizer=Adam(lr=1.0e-3))"
      ],
      "execution_count": 10,
      "outputs": [
        {
          "output_type": "stream",
          "text": [
            "WARNING:tensorflow:From /usr/local/lib/python2.7/dist-packages/tensorflow/python/framework/op_def_library.py:263: colocate_with (from tensorflow.python.framework.ops) is deprecated and will be removed in a future version.\n",
            "Instructions for updating:\n",
            "Colocations handled automatically by placer.\n",
            "WARNING:tensorflow:From /usr/local/lib/python2.7/dist-packages/keras/backend/tensorflow_backend.py:3445: calling dropout (from tensorflow.python.ops.nn_ops) with keep_prob is deprecated and will be removed in a future version.\n",
            "Instructions for updating:\n",
            "Please use `rate` instead of `keep_prob`. Rate should be set to `rate = 1 - keep_prob`.\n"
          ],
          "name": "stdout"
        }
      ]
    },
    {
      "cell_type": "code",
      "metadata": {
        "id": "O4IWSLzixMKC",
        "colab_type": "code",
        "colab": {}
      },
      "source": [
        "filepath = \"/content/gdrive/My Drive/Projects/Kaggle Challenges/LANL Earthquake Prediction/weights.hdf5\"\n",
        "callbacks = [\n",
        "    EarlyStopping(monitor='val_loss', patience=10, verbose=1, mode='min'),                                   #Stop training if no improvement is seen in Validation loss after 10 attempts\n",
        "    ReduceLROnPlateau(monitor='val_loss', factor=0.1, min_delta=1.5e-5, patience=5, verbose=1, mode='min'),                    #Slow down Learning rate if Validation Loss is not Decreasing after 5 attempts\n",
        "    ModelCheckpoint(filepath, save_best_only=True,  save_weights_only=False, monitor='val_loss', mode='min', verbose=1) #Best Model weights are saved in hdf5 file every epoch\n",
        "]\n",
        "#model = load_model('/content/gdrive/My Drive/Projects/Kaggle Challenges/LANL Earthquake Prediction/model.hdf5')\n",
        "model.fit(x_train, y_train, validation_data=(x_test, y_test), epochs=100, batch_size=16, callbacks=callbacks, verbose=1) #Train Model\n",
        "model.save('/content/gdrive/My Drive/Projects/Kaggle Challenges/LANL Earthquake Prediction/model.hdf5')      #Save Trained model after training"
      ],
      "execution_count": 0,
      "outputs": []
    },
    {
      "cell_type": "markdown",
      "metadata": {
        "id": "l_D6JP8XARyI",
        "colab_type": "text"
      },
      "source": [
        "# Testing"
      ]
    },
    {
      "cell_type": "code",
      "metadata": {
        "id": "YEuCAZIvHpG3",
        "colab_type": "code",
        "outputId": "d039d496-9608-4831-eaf7-bf39ceb9afb0",
        "colab": {
          "base_uri": "https://localhost:8080/",
          "height": 34
        }
      },
      "source": [
        "test_files = pd.read_csv(\"/content/gdrive/My Drive/Projects/Kaggle Challenges/LANL Earthquake Prediction/submission.csv\")['seg_id']                 #Get all Test Segments Names for printing name and it's prediction\n",
        "test_df = pd.read_csv(\"/content/gdrive/My Drive/Projects/Kaggle Challenges/LANL Earthquake Prediction/test_set.csv\")                    #Read Test Data\n",
        "print test_df.values.shape"
      ],
      "execution_count": 13,
      "outputs": [
        {
          "output_type": "stream",
          "text": [
            "(2624, 124)\n"
          ],
          "name": "stdout"
        }
      ]
    },
    {
      "cell_type": "code",
      "metadata": {
        "id": "6I865TQfX9z8",
        "colab_type": "code",
        "colab": {}
      },
      "source": [
        "#model = load_model('/content/gdrive/My Drive/Projects/Kaggle Challenges/LANL Earthquake Prediction/model.hdf5')                         #Load Trained Model                                                                                                   \n",
        "model.load_weights(filepath)\n",
        "ynew = model.predict(test_df.values)\n",
        "#print len(ynew), len(test_files)\n",
        "#Predict Y value('time_to_failure') for every 2624 row\n",
        "submission = []                                                                                                                         #Array to save Segment and it's prediction\n",
        "for i in range(len(ynew)):\n",
        "    submission.append( {\"seg_id\":test_files[i], \"time_to_failure\":ynew[i][0]})                                                          #Save every segment and it's prediction in submission array\n",
        "pd.DataFrame(submission).to_csv(\"/content/gdrive/My Drive/Projects/Kaggle Challenges/LANL Earthquake Prediction/submission.csv\", index=False) #Save Predictions in a csv file"
      ],
      "execution_count": 0,
      "outputs": []
    },
    {
      "cell_type": "code",
      "metadata": {
        "id": "Jcy2g3_bIb8r",
        "colab_type": "code",
        "outputId": "9a523e73-b06e-4a28-95ad-a032e2191699",
        "colab": {
          "base_uri": "https://localhost:8080/",
          "height": 119
        }
      },
      "source": [
        "import pandas as pd\n",
        "submission_df = pd.read_csv(\"/content/gdrive/My Drive/Projects/Kaggle Challenges/LANL Earthquake Prediction/submission.csv\")           #Read Saved Submission File\n",
        "print submission_df.head(5)                                                                                                            #Print first 5 predictions of 2624 rows"
      ],
      "execution_count": 16,
      "outputs": [
        {
          "output_type": "stream",
          "text": [
            "       seg_id  time_to_failure\n",
            "0  seg_63c8e4         4.287015\n",
            "1  seg_5f352e         6.679944\n",
            "2  seg_8fc754         6.407549\n",
            "3  seg_f7290f         2.617933\n",
            "4  seg_2383c2         2.937188\n"
          ],
          "name": "stdout"
        }
      ]
    },
    {
      "cell_type": "markdown",
      "metadata": {
        "id": "poKFNqLCAmoo",
        "colab_type": "text"
      },
      "source": [
        "# XGBOOST"
      ]
    },
    {
      "cell_type": "code",
      "metadata": {
        "id": "MUwcGvlQQ9j8",
        "colab_type": "code",
        "colab": {}
      },
      "source": [
        "import xgboost as xgb\n",
        "\n",
        "x_train, x_test, y_train, y_test = train_test_split(X.values, Y.values, test_size=0.2, random_state=42)\n",
        "\n",
        "dtrain = xgb.DMatrix(x_train, y_train)\n",
        "dtest = xgb.DMatrix(x_test, y_test)\n",
        "param = {'max_depth' : 3, 'eta' : 0.1, 'seed' : 42}\n",
        "num_round = 30\n",
        "bst = xgb.train(param, dtrain, num_round, [(dtest, 'test'), (dtrain, 'train')])"
      ],
      "execution_count": 0,
      "outputs": []
    },
    {
      "cell_type": "code",
      "metadata": {
        "id": "419GzgSxTTDs",
        "colab_type": "code",
        "outputId": "a4e89dbb-e1d5-471a-921f-122e90574381",
        "colab": {
          "base_uri": "https://localhost:8080/",
          "height": 34
        }
      },
      "source": [
        "from sklearn.metrics import accuracy_score\n",
        "test_mat = xgb.DMatrix(test_df.values)\n",
        "preds = bst.predict(test_mat)\n",
        "print len(preds)"
      ],
      "execution_count": 41,
      "outputs": [
        {
          "output_type": "stream",
          "text": [
            "2624\n"
          ],
          "name": "stdout"
        }
      ]
    },
    {
      "cell_type": "code",
      "metadata": {
        "id": "_PcYyjvsSAZm",
        "colab_type": "code",
        "colab": {}
      },
      "source": [
        "submission_xgboost = []                                                                                                                         #Array to save Segment and it's prediction\n",
        "for i in range(len(preds)):\n",
        "    submission_xgboost.append( {\"seg_id\":test_files[i], \"time_to_failure\":preds[i]})                                                          #Save every segment and it's prediction in submission array\n",
        "pd.DataFrame(submission_xgboost).to_csv(\"/content/gdrive/My Drive/Projects/Kaggle Challenges/LANL Earthquake Prediction/submission_xgboost.csv\", index=False) #Save Predictions in a csv file"
      ],
      "execution_count": 0,
      "outputs": []
    },
    {
      "cell_type": "code",
      "metadata": {
        "id": "XtQOzRJNYK_s",
        "colab_type": "code",
        "outputId": "6f1b4dd9-f386-4b60-ed15-afd0a2667859",
        "colab": {
          "base_uri": "https://localhost:8080/",
          "height": 119
        }
      },
      "source": [
        "submission_xgb_df = pd.read_csv(\"/content/gdrive/My Drive/Projects/Kaggle Challenges/LANL Earthquake Prediction/submission_xgboost.csv\")           #Read Saved Submission File\n",
        "print submission_xgb_df.head(5)                                                                                                            #Print first 5 predictions of 2624 rows"
      ],
      "execution_count": 43,
      "outputs": [
        {
          "output_type": "stream",
          "text": [
            "       seg_id  time_to_failure\n",
            "0  seg_63c8e4         7.181951\n",
            "1  seg_5f352e         7.638313\n",
            "2  seg_8fc754         7.260017\n",
            "3  seg_f7290f         4.656446\n",
            "4  seg_2383c2         3.893890\n"
          ],
          "name": "stdout"
        }
      ]
    },
    {
      "cell_type": "markdown",
      "metadata": {
        "id": "v_2Zg_a-afRX",
        "colab_type": "text"
      },
      "source": [
        "# LightGBM"
      ]
    },
    {
      "cell_type": "code",
      "metadata": {
        "id": "DTat5eDzaieT",
        "colab_type": "code",
        "colab": {}
      },
      "source": [
        "import lightgbm\n",
        "#categorical_features = [c for c, col in enumerate(X.columns) if 'cat' in col]\n",
        "#print categorical_features\n",
        "#\n",
        "# Train the model\n",
        "#\n",
        "#split the training and target data into 3/4 for training and 1/4 for validation. Choose your split with test_size= values ranging from [0,1] percentage of data\n",
        "x_train, x_test, y_train, y_test = train_test_split(X, Y, test_size=0.2, random_state=42)\n",
        "\n",
        "\n",
        "evals_result = {}\n",
        "\n",
        "train_data = lightgbm.Dataset(x_train, y_train)\n",
        "test_data = lightgbm.Dataset(x_test, y_test)\n",
        "\n",
        "params = {\n",
        "    'boosting_type': 'gbdt',\n",
        "    'objective': 'regression',\n",
        "    'metric': 'huber',\n",
        "    'num_leaves': 31,\n",
        "    'learning_rate': 0.05,\n",
        "    'verbose':0\n",
        "}\n",
        "\n",
        "gbm = lightgbm.train(params, train_data, num_boost_round=100, valid_sets=test_data, early_stopping_rounds=10, evals_result=evals_result)"
      ],
      "execution_count": 0,
      "outputs": []
    },
    {
      "cell_type": "code",
      "metadata": {
        "id": "MYvXodkRSM10",
        "colab_type": "code",
        "outputId": "fb5e1cc2-a908-4d27-f89d-b5f5518fcaa3",
        "colab": {
          "base_uri": "https://localhost:8080/",
          "height": 34
        }
      },
      "source": [
        "test_df = pd.read_csv(\"/content/gdrive/My Drive/Projects/Kaggle Challenges/LANL Earthquake Prediction/test_set_550.csv\")                    #Read Test Data\n",
        "y_pred=gbm.predict(test_df)\n",
        "print y_pred[:5]"
      ],
      "execution_count": 45,
      "outputs": [
        {
          "output_type": "stream",
          "text": [
            "[4.07423077 6.15674946 5.54159488 6.2706678  5.9118531 ]\n"
          ],
          "name": "stdout"
        }
      ]
    },
    {
      "cell_type": "code",
      "metadata": {
        "id": "JRcaeyajcAL6",
        "colab_type": "code",
        "colab": {}
      },
      "source": [
        "test_files = pd.read_csv(\"/content/gdrive/My Drive/Projects/Kaggle Challenges/LANL Earthquake Prediction/submission.csv\")['seg_id']                 #Get all Test Segments Names for printing name and it's prediction\n",
        "submission_lightgbm = []                                                                                                                         #Array to save Segment and it's prediction\n",
        "for i in range(len(y_pred)):\n",
        "    submission_lightgbm.append( {\"seg_id\":test_files[i], \"time_to_failure\":y_pred[i]})                                                          #Save every segment and it's prediction in submission array\n",
        "pd.DataFrame(submission_lightgbm).to_csv(\"/content/gdrive/My Drive/Projects/Kaggle Challenges/LANL Earthquake Prediction/submission_lightgbm.csv\", index=False) #Save Predictions in a csv file"
      ],
      "execution_count": 0,
      "outputs": []
    },
    {
      "cell_type": "code",
      "metadata": {
        "id": "aLXGt8iSc6KL",
        "colab_type": "code",
        "outputId": "8b829d95-ea52-4ebb-c71e-3b5fb927e54d",
        "colab": {
          "base_uri": "https://localhost:8080/",
          "height": 119
        }
      },
      "source": [
        "submission_lightgbm_df = pd.read_csv(\"/content/gdrive/My Drive/Projects/Kaggle Challenges/LANL Earthquake Prediction/submission_lightgbm.csv\")           #Read Saved Submission File\n",
        "print submission_lightgbm_df.head(5)                                                                                                            #Print first 5 predictions of 2624 rows"
      ],
      "execution_count": 47,
      "outputs": [
        {
          "output_type": "stream",
          "text": [
            "       seg_id  time_to_failure\n",
            "0  seg_63c8e4         4.074231\n",
            "1  seg_5f352e         6.156749\n",
            "2  seg_8fc754         5.541595\n",
            "3  seg_f7290f         6.270668\n",
            "4  seg_2383c2         5.911853\n"
          ],
          "name": "stdout"
        }
      ]
    },
    {
      "cell_type": "markdown",
      "metadata": {
        "id": "LHuOqg4MfPP8",
        "colab_type": "text"
      },
      "source": [
        "# Output"
      ]
    },
    {
      "cell_type": "code",
      "metadata": {
        "id": "2Gt9h7K4fHiX",
        "colab_type": "code",
        "outputId": "eb40f938-a906-4667-d06b-e8889f995cc1",
        "colab": {
          "base_uri": "https://localhost:8080/",
          "height": 136
        }
      },
      "source": [
        "print \"Neural Network with 124 features\"\n",
        "submission_df = pd.read_csv(\"/content/gdrive/My Drive/Projects/Kaggle Challenges/LANL Earthquake Prediction/submission.csv\")           #Read Saved Submission File\n",
        "print submission_df.head(5)                                                                                                            #Print first 5 predictions of 2624 rows"
      ],
      "execution_count": 51,
      "outputs": [
        {
          "output_type": "stream",
          "text": [
            "Neural Network with 124 features\n",
            "       seg_id  time_to_failure\n",
            "0  seg_63c8e4         4.287015\n",
            "1  seg_5f352e         6.679944\n",
            "2  seg_8fc754         6.407549\n",
            "3  seg_f7290f         2.617933\n",
            "4  seg_2383c2         2.937188\n"
          ],
          "name": "stdout"
        }
      ]
    },
    {
      "cell_type": "code",
      "metadata": {
        "id": "O48Vs4FSfbmT",
        "colab_type": "code",
        "outputId": "fa955920-920b-4e3c-ea43-59fca20e9504",
        "colab": {
          "base_uri": "https://localhost:8080/",
          "height": 136
        }
      },
      "source": [
        "print \"Neural Network with 550 features\"\n",
        "submission_df = pd.read_csv(\"/content/gdrive/My Drive/Projects/Kaggle Challenges/LANL Earthquake Prediction/submission_550.csv\")           #Read Saved Submission File\n",
        "print submission_df.head(5)                                                                                                            #Print first 5 predictions of 2624 rows"
      ],
      "execution_count": 52,
      "outputs": [
        {
          "output_type": "stream",
          "text": [
            "Neural Network with 550 features\n",
            "       seg_id  time_to_failure\n",
            "0  seg_63c8e4         4.287015\n",
            "1  seg_5f352e         6.679944\n",
            "2  seg_8fc754         6.407549\n",
            "3  seg_f7290f         2.617933\n",
            "4  seg_2383c2         2.937188\n"
          ],
          "name": "stdout"
        }
      ]
    },
    {
      "cell_type": "code",
      "metadata": {
        "id": "B_QPUcG6fgZK",
        "colab_type": "code",
        "outputId": "d174979a-a945-4c84-e824-1305fff8aff6",
        "colab": {
          "base_uri": "https://localhost:8080/",
          "height": 136
        }
      },
      "source": [
        "print \"XGBoost\"\n",
        "submission_xgb_df = pd.read_csv(\"/content/gdrive/My Drive/Projects/Kaggle Challenges/LANL Earthquake Prediction/submission_xgboost.csv\")           #Read Saved Submission File\n",
        "print submission_xgb_df.head(5)                                                                                                            #Print first 5 predictions of 2624 rows"
      ],
      "execution_count": 53,
      "outputs": [
        {
          "output_type": "stream",
          "text": [
            "XGBoost\n",
            "       seg_id  time_to_failure\n",
            "0  seg_63c8e4         7.181951\n",
            "1  seg_5f352e         7.638313\n",
            "2  seg_8fc754         7.260017\n",
            "3  seg_f7290f         4.656446\n",
            "4  seg_2383c2         3.893890\n"
          ],
          "name": "stdout"
        }
      ]
    },
    {
      "cell_type": "code",
      "metadata": {
        "id": "WDwXybL-fjp9",
        "colab_type": "code",
        "outputId": "7b70f2fc-ab67-43f4-8ba0-5752e5ad1a63",
        "colab": {
          "base_uri": "https://localhost:8080/",
          "height": 136
        }
      },
      "source": [
        "print \"LightGBM\"\n",
        "submission_lightgbm_df = pd.read_csv(\"/content/gdrive/My Drive/Projects/Kaggle Challenges/LANL Earthquake Prediction/submission_lightgbm.csv\")           #Read Saved Submission File\n",
        "print submission_lightgbm_df.head(5)                                                                                                            #Print first 5 predictions of 2624 rows"
      ],
      "execution_count": 54,
      "outputs": [
        {
          "output_type": "stream",
          "text": [
            "LightGBM\n",
            "       seg_id  time_to_failure\n",
            "0  seg_63c8e4         4.074231\n",
            "1  seg_5f352e         6.156749\n",
            "2  seg_8fc754         5.541595\n",
            "3  seg_f7290f         6.270668\n",
            "4  seg_2383c2         5.911853\n"
          ],
          "name": "stdout"
        }
      ]
    },
    {
      "cell_type": "markdown",
      "metadata": {
        "id": "mmp3VLQC-dR3",
        "colab_type": "text"
      },
      "source": [
        "# Visualization"
      ]
    },
    {
      "cell_type": "code",
      "metadata": {
        "id": "1AcQp4MiedGv",
        "colab_type": "code",
        "outputId": "22bcaf94-95a2-4734-eedf-dc0f70774ede",
        "colab": {
          "base_uri": "https://localhost:8080/",
          "height": 638
        }
      },
      "source": [
        "from xgboost import plot_tree\n",
        "print \"XGBOOST\"\n",
        "fig, ax = plt.subplots(figsize=(5, 10))\n",
        "\n",
        "x = xgb.plot_importance(bst, importance_type='gain', max_num_features=10, ax=ax)\n",
        "plt.show()\n",
        "fig, ax = plt.subplots(figsize=(30, 120))\n",
        "xgb.plot_tree(bst, num_trees=0, ax=ax)\n",
        "plt.show()"
      ],
      "execution_count": 58,
      "outputs": [
        {
          "output_type": "stream",
          "text": [
            "XGBOOST\n"
          ],
          "name": "stdout"
        },
        {
          "output_type": "display_data",
          "data": {
            "image/png": "[encoded data removed]",
            "text/plain": [
              "<Figure size 360x720 with 1 Axes>"
            ]
          },
          "metadata": {
            "tags": []
          }
        }
      ]
    },
    {
      "cell_type": "code",
      "metadata": {
        "id": "1phScOtUdwdW",
        "colab_type": "code",
        "outputId": "05548632-2a26-496c-8c11-a3e0b9fb6c38",
        "colab": {
          "base_uri": "https://localhost:8080/",
          "height": 984
        }
      },
      "source": [
        "print \"LightGBM\"\n",
        "print('Plotting metrics recorded during training...')\n",
        "ax = lightgbm.plot_metric(evals_result, metric='huber')\n",
        "plt.show()\n",
        "print('Plotting feature importances...')\n",
        "\n",
        "fig, ax = plt.subplots(figsize=(5, 10))\n",
        "ax = lightgbm.plot_importance(gbm, max_num_features=10, ax=ax)\n",
        "plt.show()\n",
        "print('Plotting tree with graphviz...')\n",
        "graph = lightgbm.create_tree_digraph(gbm, tree_index=0, name='Tree')\n",
        "graph.render(view=True)\n",
        "print('Plotting 54th tree...')  # one tree use categorical feature to split\n",
        "ax = lightgbm.plot_tree(gbm, tree_index=53, figsize=(120, 120), show_info=['split_gain'])\n",
        "plt.show()"
      ],
      "execution_count": 59,
      "outputs": [
        {
          "output_type": "stream",
          "text": [
            "LightGBM\n",
            "Plotting metrics recorded during training...\n"
          ],
          "name": "stdout"
        },
        {
          "output_type": "display_data",
          "data": {
            "image/png": "[encoded data removed]",
            "text/plain": [
              "<Figure size 432x288 with 1 Axes>"
            ]
          },
          "metadata": {
            "tags": []
          }
        },
        {
          "output_type": "stream",
          "text": [
            "Plotting feature importances...\n"
          ],
          "name": "stdout"
        },
        {
          "output_type": "display_data",
          "data": {
            "image/png": "[encoded data removed]",
            "text/plain": [
              "<Figure size 360x720 with 1 Axes>"
            ]
          },
          "metadata": {
            "tags": []
          }
        },
        {
          "output_type": "stream",
          "text": [
            "Plotting tree with graphviz...\n"
          ],
          "name": "stdout"
        },
        {
          "output_type": "execute_result",
          "data": {
            "text/plain": [
              "'Tree.gv.pdf'"
            ]
          },
          "metadata": {
            "tags": []
          },
          "execution_count": 59
        }
      ]
    },
    {
      "cell_type": "code",
      "metadata": {
        "id": "NL2Ur-ks-cUn",
        "colab_type": "code",
        "outputId": "2a56723a-a43d-477a-b625-7751229ca658",
        "colab": {
          "base_uri": "https://localhost:8080/",
          "height": 1352
        }
      },
      "source": [
        "#keys = X.keys()\n",
        "#keys = ['min_roll_std_24', 'min_roll_std_120', 'q25_roll_std_1000', 'min_roll_std_80', 'trend', 'min_roll_std_50', 'min_roll_std_20', 'std_roll_mean_48', 'std_roll_mean_1000', 'min_roll_std_1000']\n",
        "keys = ['q05_roll_std_10', 'q10_roll_std_100', 'q10_roll_std_50', 'q10_roll_std_1000', 'q05_roll_std_50']\n",
        "xyz = [[ plt.scatter(X[key], Y, s=1), plt.xlabel(key), plt.ylabel('time_to_failure'),plt.show()] for i, key in enumerate(keys)]\n",
        "#plt.scatter(raw_sample['acoustic_data'], raw_sample['time_to_failure'], s=1)\n"
      ],
      "execution_count": 57,
      "outputs": [
        {
          "output_type": "display_data",
          "data": {
            "image/png": "[encoded data removed]",
            "text/plain": [
              "<Figure size 432x288 with 1 Axes>"
            ]
          },
          "metadata": {
            "tags": []
          }
        },
        {
          "output_type": "display_data",
          "data": {
            "image/png": "[encoded data removed]",
            "text/plain": [
              "<Figure size 432x288 with 1 Axes>"
            ]
          },
          "metadata": {
            "tags": []
          }
        },
        {
          "output_type": "display_data",
          "data": {
            "image/png": "[encoded data removed]",
            "text/plain": [
              "<Figure size 432x288 with 1 Axes>"
            ]
          },
          "metadata": {
            "tags": []
          }
        },
        {
          "output_type": "display_data",
          "data": {
            "image/png": "[encoded data removed]",
            "text/plain": [
              "<Figure size 432x288 with 1 Axes>"
            ]
          },
          "metadata": {
            "tags": []
          }
        },
        {
          "output_type": "display_data",
          "data": {
            "image/png": "[encoded data removed]",
            "text/plain": [
              "<Figure size 432x288 with 1 Axes>"
            ]
          },
          "metadata": {
            "tags": []
          }
        }
      ]
    }
  ]
}